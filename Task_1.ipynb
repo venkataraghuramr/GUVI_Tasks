{
 "cells": [
  {
   "cell_type": "markdown",
   "metadata": {},
   "source": [
    "## Venkata Raghu Ram Raavi"
   ]
  },
  {
   "cell_type": "markdown",
   "metadata": {},
   "source": [
    "venkataraghuramr@gmail.com"
   ]
  },
  {
   "cell_type": "markdown",
   "metadata": {},
   "source": [
    "# TASK-1"
   ]
  },
  {
   "cell_type": "markdown",
   "metadata": {},
   "source": [
    "# Registration and Login system using Python, file handling"
   ]
  },
  {
   "cell_type": "markdown",
   "metadata": {},
   "source": [
    "## Validation of Email and Password: Using Regular Expressions"
   ]
  },
  {
   "cell_type": "code",
   "execution_count": 1,
   "metadata": {},
   "outputs": [],
   "source": [
    "import re\n",
    "email_regex = re.compile(r'([A-Za-z0-9]+[.-_])*[A-Za-z0-9]+@[A-Za-z0-9-]+(\\.[A-Z|a-z]{2,})+')\n",
    "password_regex = re.compile(\"^(?=.*[a-z])(?=.*[A-Z])(?=.*\\d)(?=.*[@$!%*#?&])[A-Za-z\\d@$!#%*?&]{6,18}$\")\n",
    " \n",
    "def email_validate(email):\n",
    "    if re.match(email_regex,email):\n",
    "        return True\n",
    "    else:\n",
    "        email = input(\"Please enter your email: \")\n",
    "\n",
    "def password_validate(password):\n",
    "    if re.fullmatch(password_regex, password):\n",
    "        return True\n",
    "    else:\n",
    "        print(\"Invalid password\")\n",
    "        password = input(\"Please enter your password: \")"
   ]
  },
  {
   "cell_type": "markdown",
   "metadata": {},
   "source": [
    "### Defining the Function login and checking the email and password provided by the user to login"
   ]
  },
  {
   "cell_type": "code",
   "execution_count": 2,
   "metadata": {},
   "outputs": [],
   "source": [
    "import csv\n",
    "def login():\n",
    "    email = input(\"Please enter the email: \")\n",
    "    password = input(\"Please enter your password\")\n",
    "    with open(\"usercredentials.csv\",mode=\"r\") as file:\n",
    "        reader = csv.reader(file, delimiter=\",\")\n",
    "        for row in reader:\n",
    "            if row == [email, password]:\n",
    "                print(\"You are logged in!\")\n",
    "                return True\n",
    "            else:\n",
    "                print('Please Check your Password or If you are a new user use first option')\n",
    "    print(\"Please try again\")\n",
    "    return False"
   ]
  },
  {
   "cell_type": "markdown",
   "metadata": {},
   "source": [
    "## Defining the Register Function to register the user"
   ]
  },
  {
   "cell_type": "code",
   "execution_count": 3,
   "metadata": {},
   "outputs": [],
   "source": [
    "import csv\n",
    "def register():\n",
    "    email = input(\"Please enter the email: \")\n",
    "        \n",
    "        \n",
    "    if email_validate(email) == True:\n",
    "        password = input(\"Please enter your password\")\n",
    "        re_password = input(\"Please re-enter your password\")  \n",
    "            \n",
    "        if password_validate(password) == True:\n",
    "            if password == re_password:\n",
    "                with open(\"usercredentials.csv\",mode = 'a', newline = \"\") as file:\n",
    "                    writer = csv.writer(file,delimiter = \",\")\n",
    "                    writer.writerow([email,password])\n",
    "                    print(\"Registration is Sucess\")\n",
    "                    \n",
    "            else:\n",
    "                print(\"Please try again.\")"
   ]
  },
  {
   "cell_type": "markdown",
   "metadata": {},
   "source": [
    "## Providing the portal like thing for the user to login or register"
   ]
  },
  {
   "cell_type": "code",
   "execution_count": null,
   "metadata": {},
   "outputs": [],
   "source": [
    "def login_and_regitration_portal():\n",
    "    print('Welcome to the Login Portal and Registration Portal')\n",
    "    n = input(\"Enter 1 if you want to login or enter 2 if u want to register: \")\n",
    "    if n == '1':\n",
    "        login()\n",
    "    elif n=='2':\n",
    "        register()\n",
    "\n",
    "login_and_regitration_portal()"
   ]
  }
 ],
 "metadata": {
  "kernelspec": {
   "display_name": "Python 3",
   "language": "python",
   "name": "python3"
  },
  "language_info": {
   "codemirror_mode": {
    "name": "ipython",
    "version": 3
   },
   "file_extension": ".py",
   "mimetype": "text/x-python",
   "name": "python",
   "nbconvert_exporter": "python",
   "pygments_lexer": "ipython3",
   "version": "3.8.5"
  }
 },
 "nbformat": 4,
 "nbformat_minor": 4
}
