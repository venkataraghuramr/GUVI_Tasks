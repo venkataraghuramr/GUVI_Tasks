{
 "cells": [
  {
   "cell_type": "markdown",
   "metadata": {},
   "source": [
    "# Telephone Directory CRUD Operation"
   ]
  },
  {
   "cell_type": "markdown",
   "metadata": {},
   "source": [
    "Telephone directory: Perform CRUD operation using mongodb and python.\n",
    "You need to\n",
    "\n",
    "Import necessary modules.\n",
    "Perform CRUD operations to manipulate data in MongoDB. Create, retrieve,update, and delete (CRUD)\n",
    "Create a database using attribute style on a MongoClient instance. \n",
    "\n",
    "Declare a variable db and assign the new database as an attribute of the client.\n",
    "\n",
    "Create a collection.\n",
    "\n",
    "\n",
    "For CRUD operation, create a directory which has fields like Name, Phone number, Place etc.,\n",
    "\n",
    "Insert the record into the collection.\n",
    "\n",
    "Make a query to find records you just created.\n",
    "\n",
    "Modify the records, use the update_one() method. \n",
    "\n",
    "The update_one() method requires two arguments, query and update.\n",
    "\n",
    "Delete the record, use delete_one() method. delete_one() requires a query parameter which specifies the document to delete.\n"
   ]
  },
  {
   "cell_type": "code",
   "execution_count": 1,
   "metadata": {},
   "outputs": [],
   "source": [
    "# Importing the Modules\n",
    "import pymongo\n",
    "import json\n",
    "from pymongo import MongoClient"
   ]
  },
  {
   "cell_type": "code",
   "execution_count": 2,
   "metadata": {},
   "outputs": [],
   "source": [
    "myclient = pymongo.MongoClient(\"mongodb://127.0.0.1:27017/\")"
   ]
  },
  {
   "cell_type": "code",
   "execution_count": 3,
   "metadata": {},
   "outputs": [
    {
     "data": {
      "text/plain": [
       "0"
      ]
     },
     "execution_count": 3,
     "metadata": {},
     "output_type": "execute_result"
    }
   ],
   "source": [
    "# Create a database using attribute style on a MongoClient instance. Declare a variable db and assign the new database as an attribute of the client.\n",
    "db = myclient[\"Telephone\"]\n",
    "\n",
    "data = db.collection1\n",
    "data.count_documents({}) ## just finding if any data is present"
   ]
  },
  {
   "cell_type": "code",
   "execution_count": 4,
   "metadata": {},
   "outputs": [],
   "source": [
    "# For CRUD operation, create a directory which has fields like Name, Phone number, Place etc.,\n",
    "\n",
    "directory = [\n",
    "    {'telid':1,'name':'ajith','place':'gudivada','phonenumber':8956237845},\n",
    "    {'telid':2,'name':'akash','place':'machilipatnam','phonenumber':4578122356},\n",
    "    {'telid':3,'name':'manohar','place':'bhimavaram','phonenumber':4589562358},\n",
    "    {'telid':4,'name':'ajay','place':'tanuku','phonenumber':9856231245},\n",
    "    {'telid':5,'name':'dhanu','place':'vijayawada','phonenumber':7895451223},\n",
    "    {'telid':6,'name':'lakshmi','place':'nellore','phonenumber':8745568585},\n",
    "    {'telid':7,'name':'narayana','place':'nuzvid','phonenumber':7812456235},\n",
    "    {'telid':8,'name':'ram','place':'moturu','phonenumber':7845962158},\n",
    "    {'telid':9,'name':'lakshman','place':'tarigoppula','phonenumber':7895486215},\n",
    "    {'telid':10,'name':'rosy','place':'eluru','phonenumber':9856487452}\n",
    "]"
   ]
  },
  {
   "cell_type": "code",
   "execution_count": 5,
   "metadata": {},
   "outputs": [
    {
     "name": "stdout",
     "output_type": "stream",
     "text": [
      "[ObjectId('635ead793af58a47440d2ce6'), ObjectId('635ead793af58a47440d2ce7'), ObjectId('635ead793af58a47440d2ce8'), ObjectId('635ead793af58a47440d2ce9'), ObjectId('635ead793af58a47440d2cea'), ObjectId('635ead793af58a47440d2ceb'), ObjectId('635ead793af58a47440d2cec'), ObjectId('635ead793af58a47440d2ced'), ObjectId('635ead793af58a47440d2cee'), ObjectId('635ead793af58a47440d2cef')]\n"
     ]
    }
   ],
   "source": [
    "directory_data = data.insert_many(directory)\n",
    "print(directory_data.inserted_ids)"
   ]
  },
  {
   "cell_type": "code",
   "execution_count": 6,
   "metadata": {},
   "outputs": [],
   "source": [
    "# Insert the record into the collection.\n",
    "\n",
    "y_data = {'telid':11,'name':'jersy','place':'ronaldo','phonenumber':9856487852}\n",
    "directory_data1 = data.insert_one(y_data)"
   ]
  },
  {
   "cell_type": "code",
   "execution_count": 7,
   "metadata": {},
   "outputs": [
    {
     "name": "stdout",
     "output_type": "stream",
     "text": [
      "{'_id': ObjectId('635ead793af58a47440d2ce6'), 'telid': 1, 'name': 'ajith', 'place': 'gudivada', 'phonenumber': 8956237845}\n",
      "{'_id': ObjectId('635ead793af58a47440d2ce7'), 'telid': 2, 'name': 'akash', 'place': 'machilipatnam', 'phonenumber': 4578122356}\n",
      "{'_id': ObjectId('635ead793af58a47440d2ce8'), 'telid': 3, 'name': 'manohar', 'place': 'bhimavaram', 'phonenumber': 4589562358}\n",
      "{'_id': ObjectId('635ead793af58a47440d2ce9'), 'telid': 4, 'name': 'ajay', 'place': 'tanuku', 'phonenumber': 9856231245}\n",
      "{'_id': ObjectId('635ead793af58a47440d2cea'), 'telid': 5, 'name': 'dhanu', 'place': 'vijayawada', 'phonenumber': 7895451223}\n",
      "{'_id': ObjectId('635ead793af58a47440d2ceb'), 'telid': 6, 'name': 'lakshmi', 'place': 'nellore', 'phonenumber': 8745568585}\n",
      "{'_id': ObjectId('635ead793af58a47440d2cec'), 'telid': 7, 'name': 'narayana', 'place': 'nuzvid', 'phonenumber': 7812456235}\n",
      "{'_id': ObjectId('635ead793af58a47440d2ced'), 'telid': 8, 'name': 'ram', 'place': 'moturu', 'phonenumber': 7845962158}\n",
      "{'_id': ObjectId('635ead793af58a47440d2cee'), 'telid': 9, 'name': 'lakshman', 'place': 'tarigoppula', 'phonenumber': 7895486215}\n",
      "{'_id': ObjectId('635ead793af58a47440d2cef'), 'telid': 10, 'name': 'rosy', 'place': 'eluru', 'phonenumber': 9856487452}\n",
      "{'_id': ObjectId('635ead7a3af58a47440d2cf0'), 'telid': 11, 'name': 'jersy', 'place': 'ronaldo', 'phonenumber': 9856487852}\n"
     ]
    }
   ],
   "source": [
    "telephone_data = db.collection1.find()\n",
    "\n",
    "for i in telephone_data:\n",
    "    print(i)"
   ]
  },
  {
   "cell_type": "code",
   "execution_count": 8,
   "metadata": {},
   "outputs": [
    {
     "data": {
      "text/plain": [
       "{'_id': ObjectId('635ead793af58a47440d2cee'),\n",
       " 'telid': 9,\n",
       " 'name': 'lakshman',\n",
       " 'place': 'tarigoppula',\n",
       " 'phonenumber': 7895486215}"
      ]
     },
     "execution_count": 8,
     "metadata": {},
     "output_type": "execute_result"
    }
   ],
   "source": [
    "# Make a query to find records you just created.\n",
    "yda = {'telid':9}\n",
    "db.collection1.find_one(yda)"
   ]
  },
  {
   "cell_type": "code",
   "execution_count": 9,
   "metadata": {},
   "outputs": [
    {
     "name": "stdout",
     "output_type": "stream",
     "text": [
      "{'_id': ObjectId('635ead793af58a47440d2ce9'), 'name': 'ajay', 'phonenumber': 9856231245}\n"
     ]
    }
   ],
   "source": [
    "myquery = {'place':'tanuku'}\n",
    "mydat = db.collection1.find(myquery,{'telid':0,'place':0})\n",
    "for x in mydat:\n",
    "  print(x)"
   ]
  },
  {
   "cell_type": "code",
   "execution_count": 10,
   "metadata": {},
   "outputs": [
    {
     "name": "stdout",
     "output_type": "stream",
     "text": [
      "{'_id': ObjectId('635ead793af58a47440d2ce6'), 'telid': 1, 'name': 'ajith', 'place': 'gudivada', 'phonenumber': 8956237845}\n",
      "{'_id': ObjectId('635ead793af58a47440d2ce7'), 'telid': 2, 'name': 'akash', 'place': 'machilipatnam', 'phonenumber': 4578122356}\n",
      "{'_id': ObjectId('635ead793af58a47440d2ce8'), 'telid': 3, 'name': 'manohar', 'place': 'bhimavaram', 'phonenumber': 4589562358}\n",
      "{'_id': ObjectId('635ead793af58a47440d2ce9'), 'telid': 4, 'name': 'ajay', 'place': 'tanuku', 'phonenumber': 9856231245}\n",
      "{'_id': ObjectId('635ead793af58a47440d2cea'), 'telid': 5, 'name': 'dhanu', 'place': 'vijayawada', 'phonenumber': 7895451223}\n",
      "{'_id': ObjectId('635ead793af58a47440d2ceb'), 'telid': 6, 'name': 'lakshmi', 'place': 'nellore', 'phonenumber': 8745568585}\n",
      "{'_id': ObjectId('635ead793af58a47440d2cec'), 'telid': 7, 'name': 'narayana', 'place': 'nuzvid', 'phonenumber': 7812456235}\n",
      "{'_id': ObjectId('635ead793af58a47440d2ced'), 'telid': 8, 'name': 'RaghuRamRaavi', 'place': 'moturu', 'phonenumber': 7845962158}\n",
      "{'_id': ObjectId('635ead793af58a47440d2cee'), 'telid': 9, 'name': 'lakshman', 'place': 'tarigoppula', 'phonenumber': 7895486215}\n",
      "{'_id': ObjectId('635ead793af58a47440d2cef'), 'telid': 10, 'name': 'rosy', 'place': 'eluru', 'phonenumber': 9856487452}\n",
      "{'_id': ObjectId('635ead7a3af58a47440d2cf0'), 'telid': 11, 'name': 'jersy', 'place': 'ronaldo', 'phonenumber': 9856487852}\n"
     ]
    }
   ],
   "source": [
    "# Modify the records, use the update_one() method. \n",
    "\n",
    "myquery = {\"name\":\"ram\"}\n",
    "newval = {\"$set\":{\"name\":\"RaghuRamRaavi\"}}\n",
    "data.update_one(myquery,newval)\n",
    "for x in data.find():\n",
    "  print(x)"
   ]
  },
  {
   "cell_type": "code",
   "execution_count": 11,
   "metadata": {},
   "outputs": [
    {
     "name": "stdout",
     "output_type": "stream",
     "text": [
      "{'_id': ObjectId('635ead793af58a47440d2ce6'), 'telid': 1, 'name': 'ajith', 'place': 'gudivada', 'phonenumber': 8956237845}\n",
      "{'_id': ObjectId('635ead793af58a47440d2ce7'), 'telid': 2, 'name': 'akash', 'place': 'machilipatnam', 'phonenumber': 4578122356}\n",
      "{'_id': ObjectId('635ead793af58a47440d2ce8'), 'telid': 3, 'name': 'manohar', 'place': 'bhimavaram', 'phonenumber': 4589562358}\n",
      "{'_id': ObjectId('635ead793af58a47440d2ce9'), 'telid': 4, 'name': 'ajay', 'place': 'tanuku', 'phonenumber': 9856231245}\n",
      "{'_id': ObjectId('635ead793af58a47440d2ceb'), 'telid': 6, 'name': 'lakshmi', 'place': 'nellore', 'phonenumber': 8745568585}\n",
      "{'_id': ObjectId('635ead793af58a47440d2cec'), 'telid': 7, 'name': 'narayana', 'place': 'nuzvid', 'phonenumber': 7812456235}\n",
      "{'_id': ObjectId('635ead793af58a47440d2ced'), 'telid': 8, 'name': 'RaghuRamRaavi', 'place': 'moturu', 'phonenumber': 7845962158}\n",
      "{'_id': ObjectId('635ead793af58a47440d2cee'), 'telid': 9, 'name': 'lakshman', 'place': 'tarigoppula', 'phonenumber': 7895486215}\n",
      "{'_id': ObjectId('635ead793af58a47440d2cef'), 'telid': 10, 'name': 'rosy', 'place': 'eluru', 'phonenumber': 9856487452}\n",
      "{'_id': ObjectId('635ead7a3af58a47440d2cf0'), 'telid': 11, 'name': 'jersy', 'place': 'ronaldo', 'phonenumber': 9856487852}\n"
     ]
    }
   ],
   "source": [
    "# Delete the record, use delete_one() method.\n",
    "\n",
    "myquery = {'phonenumber':7895451223}\n",
    "data.delete_one(myquery)\n",
    "for x in data.find():\n",
    "    print(x)"
   ]
  },
  {
   "cell_type": "code",
   "execution_count": 12,
   "metadata": {},
   "outputs": [
    {
     "data": {
      "text/plain": [
       "10"
      ]
     },
     "execution_count": 12,
     "metadata": {},
     "output_type": "execute_result"
    }
   ],
   "source": [
    "data=db.collection1\n",
    "data.count_documents({})"
   ]
  },
  {
   "cell_type": "code",
   "execution_count": 13,
   "metadata": {},
   "outputs": [],
   "source": [
    "db.collection1.drop() ## dropping the data such that we can use the same for the upcoming one."
   ]
  },
  {
   "cell_type": "code",
   "execution_count": null,
   "metadata": {},
   "outputs": [],
   "source": []
  },
  {
   "cell_type": "markdown",
   "metadata": {},
   "source": [
    "# **Student Database (MongoDB)**"
   ]
  },
  {
   "cell_type": "markdown",
   "metadata": {},
   "source": [
    "Here is the student dataset in the json format. .\n",
    "Perform the following operation:\n",
    "First create a database and then load the student.json dataset.\n",
    "Insert the students record into the collection.\n",
    "Queries need to answer:\n",
    "\n",
    "1) Find the student name who scored maximum scores in all (exam, quiz and homework)?\n",
    "\n",
    "2) Find students who scored below average in the exam and pass mark is 40%?\n",
    "\n",
    "3) Find students who scored below pass mark and assigned them as fail, and above pass mark as pass in all the categories.\n",
    "\n",
    "4) Find the total and average of the exam, quiz and homework and store them in a separate collection.\n",
    "\n",
    "5) Create a new collection which consists of students who scored below average and above 40% in all the categories.\n",
    "\n",
    "6) Create a new collection which consists of students who scored below the fail mark in all the categories.\n",
    "\n",
    "7) Create a new collection which\\ consists of students who scored above pass mark in all the categories.\n",
    "\n",
    "Data set Link: https://drive.google.com/file/d/1m7bmdkn6uFCYmo_6zf8VNafqaE2c0FHY/view?usp=sharing\n"
   ]
  },
  {
   "cell_type": "code",
   "execution_count": 14,
   "metadata": {},
   "outputs": [
    {
     "data": {
      "text/plain": [
       "200"
      ]
     },
     "execution_count": 14,
     "metadata": {},
     "output_type": "execute_result"
    }
   ],
   "source": [
    "# creating the database for uploading the current data\n",
    "\n",
    "db = myclient[\"StudentData\"]\n",
    "data = db.studentcollection\n",
    "data.count_documents({})"
   ]
  },
  {
   "cell_type": "code",
   "execution_count": 15,
   "metadata": {},
   "outputs": [],
   "source": [
    "data.drop()"
   ]
  },
  {
   "cell_type": "code",
   "execution_count": 16,
   "metadata": {},
   "outputs": [],
   "source": [
    "student_data = []\n",
    "for line in open('students.json','r'):\n",
    "    student_data.append(json.loads(line))"
   ]
  },
  {
   "cell_type": "code",
   "execution_count": 17,
   "metadata": {},
   "outputs": [],
   "source": [
    "data.drop()"
   ]
  },
  {
   "cell_type": "code",
   "execution_count": 18,
   "metadata": {},
   "outputs": [
    {
     "name": "stdout",
     "output_type": "stream",
     "text": [
      "[0, 1, 2, 3, 4, 5, 6, 7, 8, 9, 10, 11, 12, 13, 14, 15, 16, 17, 18, 19, 20, 21, 22, 23, 24, 25, 26, 27, 28, 29, 30, 31, 32, 33, 34, 35, 36, 37, 38, 39, 40, 41, 42, 43, 44, 45, 46, 47, 48, 49, 50, 51, 52, 53, 54, 55, 56, 57, 58, 59, 60, 61, 62, 63, 64, 65, 66, 67, 68, 69, 70, 71, 72, 73, 74, 75, 76, 77, 78, 79, 80, 81, 82, 83, 84, 85, 86, 87, 88, 89, 90, 91, 92, 93, 94, 95, 96, 97, 98, 99, 100, 101, 102, 103, 104, 105, 106, 107, 108, 109, 110, 111, 112, 113, 114, 115, 116, 117, 118, 119, 120, 121, 122, 123, 124, 125, 126, 127, 128, 129, 130, 131, 132, 133, 134, 135, 136, 137, 138, 139, 140, 141, 142, 143, 144, 145, 146, 147, 148, 149, 150, 151, 152, 153, 154, 155, 156, 157, 158, 159, 160, 161, 162, 163, 164, 165, 166, 167, 168, 169, 170, 171, 172, 173, 174, 175, 176, 177, 178, 179, 180, 181, 182, 183, 184, 185, 186, 187, 188, 189, 190, 191, 192, 193, 194, 195, 196, 197, 198, 199]\n"
     ]
    }
   ],
   "source": [
    "x = data.insert_many(student_data)\n",
    "print(x.inserted_ids)"
   ]
  },
  {
   "cell_type": "code",
   "execution_count": 19,
   "metadata": {},
   "outputs": [
    {
     "data": {
      "text/plain": [
       "200"
      ]
     },
     "execution_count": 19,
     "metadata": {},
     "output_type": "execute_result"
    }
   ],
   "source": [
    "data.count_documents({})"
   ]
  },
  {
   "cell_type": "code",
   "execution_count": 20,
   "metadata": {},
   "outputs": [
    {
     "data": {
      "text/plain": [
       "{'_id': 0,\n",
       " 'name': 'aimee Zank',\n",
       " 'scores': [{'score': 1.463179736705023, 'type': 'exam'},\n",
       "  {'score': 11.78273309957772, 'type': 'quiz'},\n",
       "  {'score': 35.8740349954354, 'type': 'homework'}]}"
      ]
     },
     "execution_count": 20,
     "metadata": {},
     "output_type": "execute_result"
    }
   ],
   "source": [
    "data.find_one()"
   ]
  },
  {
   "cell_type": "code",
   "execution_count": 21,
   "metadata": {},
   "outputs": [
    {
     "name": "stdout",
     "output_type": "stream",
     "text": [
      "{'_id': 0, 'name': 'aimee Zank', 'scores': [{'score': 1.463179736705023, 'type': 'exam'}, {'score': 11.78273309957772, 'type': 'quiz'}, {'score': 35.8740349954354, 'type': 'homework'}]}\n",
      "{'_id': 1, 'name': 'Aurelia Menendez', 'scores': [{'score': 60.06045071030959, 'type': 'exam'}, {'score': 52.79790691903873, 'type': 'quiz'}, {'score': 71.76133439165544, 'type': 'homework'}]}\n",
      "{'_id': 2, 'name': 'Corliss Zuk', 'scores': [{'score': 67.03077096065002, 'type': 'exam'}, {'score': 6.301851677835235, 'type': 'quiz'}, {'score': 66.28344683278382, 'type': 'homework'}]}\n",
      "{'_id': 3, 'name': 'Bao Ziglar', 'scores': [{'score': 71.64343899778332, 'type': 'exam'}, {'score': 24.80221293650313, 'type': 'quiz'}, {'score': 42.26147058804812, 'type': 'homework'}]}\n",
      "{'_id': 4, 'name': 'Zachary Langlais', 'scores': [{'score': 78.68385091304332, 'type': 'exam'}, {'score': 90.2963101368042, 'type': 'quiz'}, {'score': 34.41620148042529, 'type': 'homework'}]}\n",
      "{'_id': 5, 'name': 'Wilburn Spiess', 'scores': [{'score': 44.87186330181261, 'type': 'exam'}, {'score': 25.72395114668016, 'type': 'quiz'}, {'score': 63.42288310628662, 'type': 'homework'}]}\n",
      "{'_id': 6, 'name': 'Jenette Flanders', 'scores': [{'score': 37.32285459166097, 'type': 'exam'}, {'score': 28.32634976913737, 'type': 'quiz'}, {'score': 81.57115318686338, 'type': 'homework'}]}\n",
      "{'_id': 7, 'name': 'Salena Olmos', 'scores': [{'score': 90.37826509157176, 'type': 'exam'}, {'score': 42.48780666956811, 'type': 'quiz'}, {'score': 96.52986171633331, 'type': 'homework'}]}\n",
      "{'_id': 8, 'name': 'Daphne Zheng', 'scores': [{'score': 22.13583712862635, 'type': 'exam'}, {'score': 14.63969941335069, 'type': 'quiz'}, {'score': 75.94123677556644, 'type': 'homework'}]}\n",
      "{'_id': 9, 'name': 'Sanda Ryba', 'scores': [{'score': 97.00509953654694, 'type': 'exam'}, {'score': 97.80449632538915, 'type': 'quiz'}, {'score': 25.27368532432955, 'type': 'homework'}]}\n",
      "{'_id': 10, 'name': 'Denisha Cast', 'scores': [{'score': 45.61876862259409, 'type': 'exam'}, {'score': 98.35723209418343, 'type': 'quiz'}, {'score': 55.90835657173456, 'type': 'homework'}]}\n",
      "{'_id': 11, 'name': 'Marcus Blohm', 'scores': [{'score': 78.42617835651868, 'type': 'exam'}, {'score': 82.58372817930675, 'type': 'quiz'}, {'score': 87.49924733328717, 'type': 'homework'}]}\n",
      "{'_id': 12, 'name': 'Quincy Danaher', 'scores': [{'score': 54.29841278520669, 'type': 'exam'}, {'score': 85.61270164694737, 'type': 'quiz'}, {'score': 80.40732356118075, 'type': 'homework'}]}\n",
      "{'_id': 13, 'name': 'Jessika Dagenais', 'scores': [{'score': 90.47179954427436, 'type': 'exam'}, {'score': 90.3001402468489, 'type': 'quiz'}, {'score': 95.17753772405909, 'type': 'homework'}]}\n",
      "{'_id': 14, 'name': 'Alix Sherrill', 'scores': [{'score': 25.15924151998215, 'type': 'exam'}, {'score': 68.64484047692098, 'type': 'quiz'}, {'score': 24.68462152686763, 'type': 'homework'}]}\n",
      "{'_id': 15, 'name': 'Tambra Mercure', 'scores': [{'score': 69.1565022533158, 'type': 'exam'}, {'score': 3.311794422000724, 'type': 'quiz'}, {'score': 45.03178973642521, 'type': 'homework'}]}\n",
      "{'_id': 16, 'name': 'Dodie Staller', 'scores': [{'score': 7.772386442858281, 'type': 'exam'}, {'score': 31.84300235104542, 'type': 'quiz'}, {'score': 80.52136407989194, 'type': 'homework'}]}\n",
      "{'_id': 17, 'name': 'Fletcher Mcconnell', 'scores': [{'score': 39.41011069729274, 'type': 'exam'}, {'score': 81.13270307809924, 'type': 'quiz'}, {'score': 97.70116640402922, 'type': 'homework'}]}\n",
      "{'_id': 18, 'name': 'Verdell Sowinski', 'scores': [{'score': 62.12870233109035, 'type': 'exam'}, {'score': 84.74586220889356, 'type': 'quiz'}, {'score': 81.58947824932574, 'type': 'homework'}]}\n",
      "{'_id': 19, 'name': 'Gisela Levin', 'scores': [{'score': 44.51211101958831, 'type': 'exam'}, {'score': 0.6578497966368002, 'type': 'quiz'}, {'score': 93.36341655949683, 'type': 'homework'}]}\n",
      "{'_id': 20, 'name': 'Tressa Schwing', 'scores': [{'score': 42.17439799514388, 'type': 'exam'}, {'score': 71.99314840599558, 'type': 'quiz'}, {'score': 81.23972632069464, 'type': 'homework'}]}\n",
      "{'_id': 21, 'name': 'Rosana Vales', 'scores': [{'score': 46.2289476258328, 'type': 'exam'}, {'score': 98.34164225207036, 'type': 'quiz'}, {'score': 36.18769746805938, 'type': 'homework'}]}\n",
      "{'_id': 22, 'name': 'Margart Vitello', 'scores': [{'score': 75.04996547553947, 'type': 'exam'}, {'score': 10.23046475899236, 'type': 'quiz'}, {'score': 96.72520512117761, 'type': 'homework'}]}\n",
      "{'_id': 23, 'name': 'Tamika Schildgen', 'scores': [{'score': 45.65432764125526, 'type': 'exam'}, {'score': 64.32927049658846, 'type': 'quiz'}, {'score': 83.53933351660562, 'type': 'homework'}]}\n",
      "{'_id': 24, 'name': 'Jesusa Rickenbacker', 'scores': [{'score': 86.0319702155683, 'type': 'exam'}, {'score': 1.967495200433389, 'type': 'quiz'}, {'score': 61.10861071547914, 'type': 'homework'}]}\n",
      "{'_id': 25, 'name': 'Rudolph Domingo', 'scores': [{'score': 74.75289335591543, 'type': 'exam'}, {'score': 38.5413647805495, 'type': 'quiz'}, {'score': 35.2554340953413, 'type': 'homework'}]}\n",
      "{'_id': 26, 'name': 'Jonie Raby', 'scores': [{'score': 19.17861192576963, 'type': 'exam'}, {'score': 76.3890359749654, 'type': 'quiz'}, {'score': 44.39605672647002, 'type': 'homework'}]}\n",
      "{'_id': 27, 'name': 'Edgar Sarkis', 'scores': [{'score': 8.606983261043888, 'type': 'exam'}, {'score': 58.71180464203724, 'type': 'quiz'}, {'score': 15.33726210596508, 'type': 'homework'}]}\n",
      "{'_id': 28, 'name': 'Laureen Salomone', 'scores': [{'score': 3.677565278992456, 'type': 'exam'}, {'score': 7.119462599229987, 'type': 'quiz'}, {'score': 82.87308922617427, 'type': 'homework'}]}\n",
      "{'_id': 29, 'name': 'Gwyneth Garling', 'scores': [{'score': 48.36644963899371, 'type': 'exam'}, {'score': 10.37827022865908, 'type': 'quiz'}, {'score': 93.26639335532833, 'type': 'homework'}]}\n",
      "{'_id': 30, 'name': 'Kaila Deibler', 'scores': [{'score': 15.89771199662455, 'type': 'exam'}, {'score': 56.93965183412178, 'type': 'quiz'}, {'score': 66.64493295066322, 'type': 'homework'}]}\n",
      "{'_id': 31, 'name': 'Tandra Meadows', 'scores': [{'score': 24.90138146001744, 'type': 'exam'}, {'score': 28.8266541837344, 'type': 'quiz'}, {'score': 97.16831550665721, 'type': 'homework'}]}\n",
      "{'_id': 32, 'name': 'Gwen Honig', 'scores': [{'score': 87.14345376886205, 'type': 'exam'}, {'score': 99.45824441135635, 'type': 'quiz'}, {'score': 76.66460454219344, 'type': 'homework'}]}\n",
      "{'_id': 33, 'name': 'Sadie Jernigan', 'scores': [{'score': 73.15861249943812, 'type': 'exam'}, {'score': 2.987718065941702, 'type': 'quiz'}, {'score': 82.54104198590488, 'type': 'homework'}]}\n",
      "{'_id': 34, 'name': 'Carli Belvins', 'scores': [{'score': 7.112266875518214, 'type': 'exam'}, {'score': 67.734668378287, 'type': 'quiz'}, {'score': 88.99855402666871, 'type': 'homework'}]}\n",
      "{'_id': 35, 'name': 'Synthia Labelle', 'scores': [{'score': 27.22049103148209, 'type': 'exam'}, {'score': 31.28760039265919, 'type': 'quiz'}, {'score': 79.23285425688643, 'type': 'homework'}]}\n",
      "{'_id': 36, 'name': 'Eugene Magdaleno', 'scores': [{'score': 73.055900093666, 'type': 'exam'}, {'score': 79.85621560462026, 'type': 'quiz'}, {'score': 66.09143669040472, 'type': 'homework'}]}\n",
      "{'_id': 37, 'name': 'Meagan Oakes', 'scores': [{'score': 86.06759716616264, 'type': 'exam'}, {'score': 79.45097452834857, 'type': 'quiz'}, {'score': 28.41090281547689, 'type': 'homework'}]}\n",
      "{'_id': 38, 'name': 'Richelle Siemers', 'scores': [{'score': 34.64373397163318, 'type': 'exam'}, {'score': 91.46799649446983, 'type': 'quiz'}, {'score': 56.12615074082559, 'type': 'homework'}]}\n",
      "{'_id': 39, 'name': 'Mariette Batdorf', 'scores': [{'score': 0.04381116979284005, 'type': 'exam'}, {'score': 90.25774974259562, 'type': 'quiz'}, {'score': 65.88612319625227, 'type': 'homework'}]}\n",
      "{'_id': 40, 'name': 'Rachell Aman', 'scores': [{'score': 84.53009035375172, 'type': 'exam'}, {'score': 25.25568126160764, 'type': 'quiz'}, {'score': 70.42062575402956, 'type': 'homework'}]}\n",
      "{'_id': 41, 'name': 'Aleida Elsass', 'scores': [{'score': 28.02518041693717, 'type': 'exam'}, {'score': 95.25243105389065, 'type': 'quiz'}, {'score': 68.05980405338909, 'type': 'homework'}]}\n",
      "{'_id': 42, 'name': 'Kayce Kenyon', 'scores': [{'score': 44.62441703708117, 'type': 'exam'}, {'score': 27.38208798553111, 'type': 'quiz'}, {'score': 97.43587143437509, 'type': 'homework'}]}\n",
      "{'_id': 43, 'name': 'Ernestine Macfarland', 'scores': [{'score': 15.29147856258362, 'type': 'exam'}, {'score': 78.40698797039501, 'type': 'quiz'}, {'score': 31.03031764716336, 'type': 'homework'}]}\n",
      "{'_id': 44, 'name': 'Houston Valenti', 'scores': [{'score': 98.06441387027331, 'type': 'exam'}, {'score': 0.8760893342659504, 'type': 'quiz'}, {'score': 15.2177618920215, 'type': 'homework'}]}\n",
      "{'_id': 45, 'name': 'Terica Brugger', 'scores': [{'score': 42.1011312120801, 'type': 'exam'}, {'score': 41.73654145887228, 'type': 'quiz'}, {'score': 18.91287189072117, 'type': 'homework'}]}\n",
      "{'_id': 46, 'name': 'Lady Lefevers', 'scores': [{'score': 16.89237820123443, 'type': 'exam'}, {'score': 65.97505910406456, 'type': 'quiz'}, {'score': 48.42527123437286, 'type': 'homework'}]}\n",
      "{'_id': 47, 'name': 'Kurtis Jiles', 'scores': [{'score': 92.96916908741805, 'type': 'exam'}, {'score': 22.86854192921203, 'type': 'quiz'}, {'score': 31.89793879453222, 'type': 'homework'}]}\n",
      "{'_id': 48, 'name': 'Barbera Lippman', 'scores': [{'score': 35.43490750932609, 'type': 'exam'}, {'score': 97.42074160188449, 'type': 'quiz'}, {'score': 74.1092960902528, 'type': 'homework'}]}\n",
      "{'_id': 49, 'name': 'Dinah Sauve', 'scores': [{'score': 96.64807532447064, 'type': 'exam'}, {'score': 14.56470882270576, 'type': 'quiz'}, {'score': 72.00519420743191, 'type': 'homework'}]}\n",
      "{'_id': 50, 'name': 'Alica Pasley', 'scores': [{'score': 19.38544736721771, 'type': 'exam'}, {'score': 88.70752686639557, 'type': 'quiz'}, {'score': 60.62755218680213, 'type': 'homework'}]}\n",
      "{'_id': 51, 'name': 'Elizabet Kleine', 'scores': [{'score': 86.81245449846962, 'type': 'exam'}, {'score': 36.196443334522, 'type': 'quiz'}, {'score': 77.94001750905642, 'type': 'homework'}]}\n",
      "{'_id': 52, 'name': 'Tawana Oberg', 'scores': [{'score': 80.59006098671075, 'type': 'exam'}, {'score': 93.28438118988183, 'type': 'quiz'}, {'score': 93.12134003887978, 'type': 'homework'}]}\n",
      "{'_id': 53, 'name': 'Malisa Jeanes', 'scores': [{'score': 33.44580005842922, 'type': 'exam'}, {'score': 7.172746439960975, 'type': 'quiz'}, {'score': 80.53328849494751, 'type': 'homework'}]}\n",
      "{'_id': 54, 'name': 'Joel Rueter', 'scores': [{'score': 87.53636893952853, 'type': 'exam'}, {'score': 92.70974674256513, 'type': 'quiz'}, {'score': 61.79032586247813, 'type': 'homework'}]}\n",
      "{'_id': 55, 'name': 'Tresa Sinha', 'scores': [{'score': 94.93136959210354, 'type': 'exam'}, {'score': 72.32226123565266, 'type': 'quiz'}, {'score': 77.248768811767, 'type': 'homework'}]}\n",
      "{'_id': 56, 'name': 'Danika Loeffler', 'scores': [{'score': 21.54531707142236, 'type': 'exam'}, {'score': 41.75962115078149, 'type': 'quiz'}, {'score': 55.70195462204016, 'type': 'homework'}]}\n",
      "{'_id': 57, 'name': 'Chad Rahe', 'scores': [{'score': 40.84572027366789, 'type': 'exam'}, {'score': 29.22733629679561, 'type': 'quiz'}, {'score': 93.12112348179406, 'type': 'homework'}]}\n",
      "{'_id': 58, 'name': 'Joaquina Arbuckle', 'scores': [{'score': 28.66671659815553, 'type': 'exam'}, {'score': 40.48858382583742, 'type': 'quiz'}, {'score': 51.51393116681172, 'type': 'homework'}]}\n",
      "{'_id': 59, 'name': 'Vinnie Auerbach', 'scores': [{'score': 95.45508256300009, 'type': 'exam'}, {'score': 7.512188017365151, 'type': 'quiz'}, {'score': 28.5905754294006, 'type': 'homework'}]}\n",
      "{'_id': 60, 'name': 'Dusti Lemmond', 'scores': [{'score': 17.27725327681863, 'type': 'exam'}, {'score': 83.24439414725833, 'type': 'quiz'}, {'score': 81.84258722611811, 'type': 'homework'}]}\n",
      "{'_id': 61, 'name': 'Grady Zemke', 'scores': [{'score': 51.91561300267121, 'type': 'exam'}, {'score': 50.08349374829509, 'type': 'quiz'}, {'score': 95.34139273570386, 'type': 'homework'}]}\n",
      "{'_id': 62, 'name': 'Vina Matsunaga', 'scores': [{'score': 51.38190070034149, 'type': 'exam'}, {'score': 34.63479282877322, 'type': 'quiz'}, {'score': 46.27059093183421, 'type': 'homework'}]}\n",
      "{'_id': 63, 'name': 'Rubie Winton', 'scores': [{'score': 7.176062073558509, 'type': 'exam'}, {'score': 46.32426882511162, 'type': 'quiz'}, {'score': 19.24312817599633, 'type': 'homework'}]}\n",
      "{'_id': 64, 'name': 'Whitley Fears', 'scores': [{'score': 89.61845831842888, 'type': 'exam'}, {'score': 82.44879156010508, 'type': 'quiz'}, {'score': 96.57912148645883, 'type': 'homework'}]}\n",
      "{'_id': 65, 'name': 'Gena Riccio', 'scores': [{'score': 67.58395308948619, 'type': 'exam'}, {'score': 67.2413500951588, 'type': 'quiz'}, {'score': 42.93471779899529, 'type': 'homework'}]}\n",
      "{'_id': 66, 'name': 'Kim Xu', 'scores': [{'score': 19.96531774799065, 'type': 'exam'}, {'score': 17.52966217224916, 'type': 'quiz'}, {'score': 57.32983091095816, 'type': 'homework'}]}\n",
      "{'_id': 67, 'name': 'Merissa Mann', 'scores': [{'score': 75.1949733626123, 'type': 'exam'}, {'score': 52.56522605123723, 'type': 'quiz'}, {'score': 94.67518167209815, 'type': 'homework'}]}\n",
      "{'_id': 68, 'name': 'Jenise Mcguffie', 'scores': [{'score': 40.15210496060384, 'type': 'exam'}, {'score': 90.60219950183566, 'type': 'quiz'}, {'score': 51.58720341010564, 'type': 'homework'}]}\n",
      "{'_id': 69, 'name': 'Cody Strouth', 'scores': [{'score': 4.784730508547719, 'type': 'exam'}, {'score': 99.80348240553108, 'type': 'quiz'}, {'score': 97.89665889862901, 'type': 'homework'}]}\n",
      "{'_id': 70, 'name': 'Harriett Velarde', 'scores': [{'score': 33.7733570443736, 'type': 'exam'}, {'score': 96.05228578589255, 'type': 'quiz'}, {'score': 46.24926696413032, 'type': 'homework'}]}\n",
      "{'_id': 71, 'name': 'Kam Senters', 'scores': [{'score': 81.56497719010976, 'type': 'exam'}, {'score': 5.247410853581524, 'type': 'quiz'}, {'score': 92.10078400854972, 'type': 'homework'}]}\n",
      "{'_id': 72, 'name': 'Leonida Lafond', 'scores': [{'score': 92.10605086888438, 'type': 'exam'}, {'score': 32.66022211621239, 'type': 'quiz'}, {'score': 82.15588797092647, 'type': 'homework'}]}\n",
      "{'_id': 73, 'name': 'Devorah Smartt', 'scores': [{'score': 69.60160495436016, 'type': 'exam'}, {'score': 6.931507591998553, 'type': 'quiz'}, {'score': 55.66005349294464, 'type': 'homework'}]}\n",
      "{'_id': 74, 'name': 'Leola Lundin', 'scores': [{'score': 31.62936464207764, 'type': 'exam'}, {'score': 91.28658941188532, 'type': 'quiz'}, {'score': 93.71671632774428, 'type': 'homework'}]}\n",
      "{'_id': 75, 'name': 'Tonia Surace', 'scores': [{'score': 80.93655069496523, 'type': 'exam'}, {'score': 79.54620208144452, 'type': 'quiz'}, {'score': 41.34308724166419, 'type': 'homework'}]}\n",
      "{'_id': 76, 'name': 'Adrien Renda', 'scores': [{'score': 57.24794864351232, 'type': 'exam'}, {'score': 19.5118228072558, 'type': 'quiz'}, {'score': 70.71043448913191, 'type': 'homework'}]}\n",
      "{'_id': 77, 'name': 'Efrain Claw', 'scores': [{'score': 55.41266579085205, 'type': 'exam'}, {'score': 31.30359328252952, 'type': 'quiz'}, {'score': 88.73134194093676, 'type': 'homework'}]}\n",
      "{'_id': 78, 'name': 'Len Treiber', 'scores': [{'score': 21.21850173315791, 'type': 'exam'}, {'score': 13.2282768150266, 'type': 'quiz'}, {'score': 82.49842801247594, 'type': 'homework'}]}\n",
      "{'_id': 79, 'name': 'Mariela Sherer', 'scores': [{'score': 61.20158144877323, 'type': 'exam'}, {'score': 52.75657259917104, 'type': 'quiz'}, {'score': 90.97004773806381, 'type': 'homework'}]}\n",
      "{'_id': 80, 'name': 'Echo Pippins', 'scores': [{'score': 27.77924608896123, 'type': 'exam'}, {'score': 85.1861976198818, 'type': 'quiz'}, {'score': 92.50671800180454, 'type': 'homework'}]}\n",
      "{'_id': 81, 'name': 'Linnie Weigel', 'scores': [{'score': 66.0349256424749, 'type': 'exam'}, {'score': 67.57096025532985, 'type': 'quiz'}, {'score': 38.33608066073369, 'type': 'homework'}]}\n",
      "{'_id': 82, 'name': 'Santiago Dollins', 'scores': [{'score': 33.48242310776701, 'type': 'exam'}, {'score': 60.49199094204558, 'type': 'quiz'}, {'score': 87.02564768982076, 'type': 'homework'}]}\n",
      "{'_id': 83, 'name': 'Tonisha Games', 'scores': [{'score': 29.13833807032966, 'type': 'exam'}, {'score': 35.25054111123917, 'type': 'quiz'}, {'score': 66.73047056293319, 'type': 'homework'}]}\n",
      "{'_id': 84, 'name': 'Timothy Harrod', 'scores': [{'score': 93.23020013495737, 'type': 'exam'}, {'score': 49.06010347848443, 'type': 'quiz'}, {'score': 74.00788699415295, 'type': 'homework'}]}\n",
      "{'_id': 85, 'name': 'Rae Kohout', 'scores': [{'score': 63.86894250781692, 'type': 'exam'}, {'score': 55.81549538273672, 'type': 'quiz'}, {'score': 59.13566011309437, 'type': 'homework'}]}\n",
      "{'_id': 86, 'name': 'Brain Lachapelle', 'scores': [{'score': 2.013473187690951, 'type': 'exam'}, {'score': 45.01802394825918, 'type': 'quiz'}, {'score': 88.04712649447521, 'type': 'homework'}]}\n",
      "{'_id': 87, 'name': 'Toshiko Sabella', 'scores': [{'score': 21.05570509531929, 'type': 'exam'}, {'score': 26.43387483146958, 'type': 'quiz'}, {'score': 42.80331214002496, 'type': 'homework'}]}\n",
      "{'_id': 88, 'name': 'Keesha Papadopoulos', 'scores': [{'score': 82.35397321850031, 'type': 'exam'}, {'score': 3.064361273717464, 'type': 'quiz'}, {'score': 98.46867828216399, 'type': 'homework'}]}\n",
      "{'_id': 89, 'name': 'Cassi Heal', 'scores': [{'score': 43.04310994985133, 'type': 'exam'}, {'score': 0.006247360551892012, 'type': 'quiz'}, {'score': 63.88558436723092, 'type': 'homework'}]}\n",
      "{'_id': 90, 'name': 'Osvaldo Hirt', 'scores': [{'score': 67.44931456608883, 'type': 'exam'}, {'score': 41.77986504201782, 'type': 'quiz'}, {'score': 76.30879472084027, 'type': 'homework'}]}\n",
      "{'_id': 91, 'name': 'Ty Barbieri', 'scores': [{'score': 38.43781607953586, 'type': 'exam'}, {'score': 95.70340794272111, 'type': 'quiz'}, {'score': 72.80272364761178, 'type': 'homework'}]}\n",
      "{'_id': 92, 'name': 'Ta Sikorski', 'scores': [{'score': 30.02140506101446, 'type': 'exam'}, {'score': 23.89164976236439, 'type': 'quiz'}, {'score': 61.82907698626848, 'type': 'homework'}]}\n",
      "{'_id': 93, 'name': 'Lucinda Vanderburg', 'scores': [{'score': 27.55843343656866, 'type': 'exam'}, {'score': 11.45699271327768, 'type': 'quiz'}, {'score': 75.53546873615787, 'type': 'homework'}]}\n",
      "{'_id': 94, 'name': 'Darby Wass', 'scores': [{'score': 6.867644836612586, 'type': 'exam'}, {'score': 63.4908039680606, 'type': 'quiz'}, {'score': 85.41865347441522, 'type': 'homework'}]}\n",
      "{'_id': 95, 'name': 'Omar Bowdoin', 'scores': [{'score': 8.58858127638702, 'type': 'exam'}, {'score': 88.40377630359677, 'type': 'quiz'}, {'score': 25.71387474240768, 'type': 'homework'}]}\n",
      "{'_id': 96, 'name': 'Milan Mcgavock', 'scores': [{'score': 69.11554341921843, 'type': 'exam'}, {'score': 10.2027724707151, 'type': 'quiz'}, {'score': 24.87545552041663, 'type': 'homework'}]}\n",
      "{'_id': 97, 'name': 'Maren Scheider', 'scores': [{'score': 94.4329121733663, 'type': 'exam'}, {'score': 77.28263690107663, 'type': 'quiz'}, {'score': 59.46326216544371, 'type': 'homework'}]}\n",
      "{'_id': 98, 'name': 'Carli Ector', 'scores': [{'score': 88.18040268522668, 'type': 'exam'}, {'score': 60.3111085581054, 'type': 'quiz'}, {'score': 96.33612053785647, 'type': 'homework'}]}\n",
      "{'_id': 99, 'name': 'Jaclyn Morado', 'scores': [{'score': 70.27627082122453, 'type': 'exam'}, {'score': 56.78470387064279, 'type': 'quiz'}, {'score': 47.48518298423097, 'type': 'homework'}]}\n",
      "{'_id': 100, 'name': 'Demarcus Audette', 'scores': [{'score': 47.42608580155614, 'type': 'exam'}, {'score': 44.83416623719906, 'type': 'quiz'}, {'score': 39.01726616178844, 'type': 'homework'}]}\n",
      "{'_id': 101, 'name': 'Tania Hulett', 'scores': [{'score': 21.84617015735916, 'type': 'exam'}, {'score': 53.8568257735492, 'type': 'quiz'}, {'score': 79.60533635579307, 'type': 'homework'}]}\n",
      "{'_id': 102, 'name': 'Mercedez Garduno', 'scores': [{'score': 49.52877007656483, 'type': 'exam'}, {'score': 44.55505066212384, 'type': 'quiz'}, {'score': 81.50869746632009, 'type': 'homework'}]}\n",
      "{'_id': 103, 'name': 'Fleta Duplantis', 'scores': [{'score': 84.37799696030743, 'type': 'exam'}, {'score': 15.95792143439528, 'type': 'quiz'}, {'score': 77.80745176713172, 'type': 'homework'}]}\n",
      "{'_id': 104, 'name': 'Brittny Warwick', 'scores': [{'score': 69.54399888097534, 'type': 'exam'}, {'score': 82.00469934215849, 'type': 'quiz'}, {'score': 95.96446106607902, 'type': 'homework'}]}\n",
      "{'_id': 105, 'name': 'Shin Allbright', 'scores': [{'score': 62.28388941877533, 'type': 'exam'}, {'score': 85.26863799439475, 'type': 'quiz'}, {'score': 88.9947941542333, 'type': 'homework'}]}\n",
      "{'_id': 106, 'name': 'Karry Petrarca', 'scores': [{'score': 3.677125771067413, 'type': 'exam'}, {'score': 40.39799056667404, 'type': 'quiz'}, {'score': 14.38347127905983, 'type': 'homework'}]}\n",
      "{'_id': 107, 'name': 'Beckie Millington', 'scores': [{'score': 69.52419218194589, 'type': 'exam'}, {'score': 24.85411404016219, 'type': 'quiz'}, {'score': 34.92039455520659, 'type': 'homework'}]}\n",
      "{'_id': 108, 'name': 'Mikaela Meidinger', 'scores': [{'score': 63.75595052560389, 'type': 'exam'}, {'score': 59.52298111997963, 'type': 'quiz'}, {'score': 88.66481441499843, 'type': 'homework'}]}\n",
      "{'_id': 109, 'name': 'Flora Duell', 'scores': [{'score': 40.68238966626067, 'type': 'exam'}, {'score': 46.77972040308903, 'type': 'quiz'}, {'score': 69.29400057020965, 'type': 'homework'}]}\n",
      "{'_id': 110, 'name': 'Nobuko Linzey', 'scores': [{'score': 67.40792606687442, 'type': 'exam'}, {'score': 58.58331128403415, 'type': 'quiz'}, {'score': 47.44831568815929, 'type': 'homework'}]}\n",
      "{'_id': 111, 'name': 'Gennie Ratner', 'scores': [{'score': 62.74309964110307, 'type': 'exam'}, {'score': 92.18013849235186, 'type': 'quiz'}, {'score': 53.11174468047395, 'type': 'homework'}]}\n",
      "{'_id': 112, 'name': 'Myrtle Wolfinger', 'scores': [{'score': 73.93895528856032, 'type': 'exam'}, {'score': 35.99397009906073, 'type': 'quiz'}, {'score': 93.85826506506328, 'type': 'homework'}]}\n",
      "{'_id': 113, 'name': '', 'scores': [{'score': 77.57315913088024, 'type': 'exam'}, {'score': 13.28135073340091, 'type': 'quiz'}, {'score': 67.27527802263116, 'type': 'homework'}]}\n",
      "{'_id': 114, 'name': 'aimee Zank', 'scores': [{'score': 15.91636686717778, 'type': 'exam'}, {'score': 96.12953798826392, 'type': 'quiz'}, {'score': 18.92628947700149, 'type': 'homework'}]}\n",
      "{'_id': 115, 'name': 'Aurelia Menendez', 'scores': [{'score': 5.105728872755167, 'type': 'exam'}, {'score': 7.375913405784407, 'type': 'quiz'}, {'score': 92.62414866541212, 'type': 'homework'}]}\n",
      "{'_id': 116, 'name': 'Corliss Zuk', 'scores': [{'score': 76.45468797439878, 'type': 'exam'}, {'score': 53.02642890026489, 'type': 'quiz'}, {'score': 91.86573111689813, 'type': 'homework'}]}\n",
      "{'_id': 117, 'name': 'Bao Ziglar', 'scores': [{'score': 37.22753032391262, 'type': 'exam'}, {'score': 52.75139192596129, 'type': 'quiz'}, {'score': 64.06863625194231, 'type': 'homework'}]}\n",
      "{'_id': 118, 'name': 'Zachary Langlais', 'scores': [{'score': 62.20457822364115, 'type': 'exam'}, {'score': 61.03733414415722, 'type': 'quiz'}, {'score': 82.41688205392703, 'type': 'homework'}]}\n",
      "{'_id': 119, 'name': 'Wilburn Spiess', 'scores': [{'score': 52.36963021569788, 'type': 'exam'}, {'score': 96.5715450678789, 'type': 'quiz'}, {'score': 61.35034001494281, 'type': 'homework'}]}\n",
      "{'_id': 120, 'name': 'Jenette Flanders', 'scores': [{'score': 22.0445143239363, 'type': 'exam'}, {'score': 22.43958080566196, 'type': 'quiz'}, {'score': 63.38749542414235, 'type': 'homework'}]}\n",
      "{'_id': 121, 'name': 'Salena Olmos', 'scores': [{'score': 0.8007809823509016, 'type': 'exam'}, {'score': 44.71135559183793, 'type': 'quiz'}, {'score': 65.17342981800904, 'type': 'homework'}]}\n",
      "{'_id': 122, 'name': 'Daphne Zheng', 'scores': [{'score': 61.47626628718472, 'type': 'exam'}, {'score': 21.99638326978255, 'type': 'quiz'}, {'score': 88.2119997542672, 'type': 'homework'}]}\n",
      "{'_id': 123, 'name': 'Sanda Ryba', 'scores': [{'score': 10.62413290291121, 'type': 'exam'}, {'score': 3.544356815821981, 'type': 'quiz'}, {'score': 57.10297055409504, 'type': 'homework'}]}\n",
      "{'_id': 124, 'name': 'Denisha Cast', 'scores': [{'score': 2.723204808959712, 'type': 'exam'}, {'score': 38.47056093169111, 'type': 'quiz'}, {'score': 77.04035583743548, 'type': 'homework'}]}\n",
      "{'_id': 125, 'name': 'Marcus Blohm', 'scores': [{'score': 64.47719204148157, 'type': 'exam'}, {'score': 23.68353886432903, 'type': 'quiz'}, {'score': 48.87355812474999, 'type': 'homework'}]}\n",
      "{'_id': 126, 'name': 'Quincy Danaher', 'scores': [{'score': 40.53136904234401, 'type': 'exam'}, {'score': 83.09270171511093, 'type': 'quiz'}, {'score': 79.004550587978, 'type': 'homework'}]}\n",
      "{'_id': 127, 'name': 'Jessika Dagenais', 'scores': [{'score': 96.93459855769822, 'type': 'exam'}, {'score': 95.6756371543187, 'type': 'quiz'}, {'score': 70.7887302106597, 'type': 'homework'}]}\n",
      "{'_id': 128, 'name': 'Alix Sherrill', 'scores': [{'score': 43.67436243299881, 'type': 'exam'}, {'score': 14.98112420690882, 'type': 'quiz'}, {'score': 23.62416821198536, 'type': 'homework'}]}\n",
      "{'_id': 129, 'name': 'Tambra Mercure', 'scores': [{'score': 62.61423873241083, 'type': 'exam'}, {'score': 47.64776674251425, 'type': 'quiz'}, {'score': 85.20578508528978, 'type': 'homework'}]}\n",
      "{'_id': 130, 'name': 'Dodie Staller', 'scores': [{'score': 52.16051124848157, 'type': 'exam'}, {'score': 83.51563143820728, 'type': 'quiz'}, {'score': 63.88857636557489, 'type': 'homework'}]}\n",
      "{'_id': 131, 'name': 'Fletcher Mcconnell', 'scores': [{'score': 24.98670635479149, 'type': 'exam'}, {'score': 94.90809903126159, 'type': 'quiz'}, {'score': 29.37194792367135, 'type': 'homework'}]}\n",
      "{'_id': 132, 'name': 'Verdell Sowinski', 'scores': [{'score': 20.1442549902647, 'type': 'exam'}, {'score': 47.66457425945161, 'type': 'quiz'}, {'score': 77.87844292368344, 'type': 'homework'}]}\n",
      "{'_id': 133, 'name': 'Gisela Levin', 'scores': [{'score': 15.88727528055548, 'type': 'exam'}, {'score': 91.49884857295594, 'type': 'quiz'}, {'score': 16.56032169309347, 'type': 'homework'}]}\n",
      "{'_id': 134, 'name': 'Tressa Schwing', 'scores': [{'score': 54.53947018434061, 'type': 'exam'}, {'score': 22.26443529294689, 'type': 'quiz'}, {'score': 89.29532364756331, 'type': 'homework'}]}\n",
      "{'_id': 135, 'name': 'Rosana Vales', 'scores': [{'score': 15.73156258820246, 'type': 'exam'}, {'score': 33.70281347493842, 'type': 'quiz'}, {'score': 62.79875994037851, 'type': 'homework'}]}\n",
      "{'_id': 136, 'name': 'Margart Vitello', 'scores': [{'score': 99.33685767140612, 'type': 'exam'}, {'score': 1.25322762871457, 'type': 'quiz'}, {'score': 66.22827571617455, 'type': 'homework'}]}\n",
      "{'_id': 137, 'name': 'Tamika Schildgen', 'scores': [{'score': 4.433956226109692, 'type': 'exam'}, {'score': 65.50313785402548, 'type': 'quiz'}, {'score': 89.5950384993947, 'type': 'homework'}]}\n",
      "{'_id': 138, 'name': 'Jesusa Rickenbacker', 'scores': [{'score': 15.6237624645333, 'type': 'exam'}, {'score': 7.856092232737, 'type': 'quiz'}, {'score': 92.06889864132863, 'type': 'homework'}]}\n",
      "{'_id': 139, 'name': 'Rudolph Domingo', 'scores': [{'score': 33.02956040417582, 'type': 'exam'}, {'score': 35.99586495205484, 'type': 'quiz'}, {'score': 91.06098699300175, 'type': 'homework'}]}\n",
      "{'_id': 140, 'name': 'Jonie Raby', 'scores': [{'score': 7.307863391324043, 'type': 'exam'}, {'score': 21.72514968277675, 'type': 'quiz'}, {'score': 73.8284408290604, 'type': 'homework'}]}\n",
      "{'_id': 141, 'name': 'Edgar Sarkis', 'scores': [{'score': 65.99888014434269, 'type': 'exam'}, {'score': 58.75598946266268, 'type': 'quiz'}, {'score': 75.06379354463246, 'type': 'homework'}]}\n",
      "{'_id': 142, 'name': 'Laureen Salomone', 'scores': [{'score': 42.54322973844196, 'type': 'exam'}, {'score': 33.03152379449381, 'type': 'quiz'}, {'score': 77.52357320933667, 'type': 'homework'}]}\n",
      "{'_id': 143, 'name': 'Gwyneth Garling', 'scores': [{'score': 44.29553481758053, 'type': 'exam'}, {'score': 23.15599504527296, 'type': 'quiz'}, {'score': 84.83695219376807, 'type': 'homework'}]}\n",
      "{'_id': 144, 'name': 'Kaila Deibler', 'scores': [{'score': 20.85988856264308, 'type': 'exam'}, {'score': 73.51120532285645, 'type': 'quiz'}, {'score': 88.72483530139125, 'type': 'homework'}]}\n",
      "{'_id': 145, 'name': 'Tandra Meadows', 'scores': [{'score': 19.07796402740767, 'type': 'exam'}, {'score': 7.63846325490759, 'type': 'quiz'}, {'score': 60.84655775785094, 'type': 'homework'}]}\n",
      "{'_id': 146, 'name': 'Gwen Honig', 'scores': [{'score': 35.99646382910844, 'type': 'exam'}, {'score': 74.46323507534565, 'type': 'quiz'}, {'score': 90.95590422002779, 'type': 'homework'}]}\n",
      "{'_id': 147, 'name': 'Sadie Jernigan', 'scores': [{'score': 6.14281392478545, 'type': 'exam'}, {'score': 44.94102013771302, 'type': 'quiz'}, {'score': 89.94407975401369, 'type': 'homework'}]}\n",
      "{'_id': 148, 'name': 'Carli Belvins', 'scores': [{'score': 84.4361816750119, 'type': 'exam'}, {'score': 1.702113040528119, 'type': 'quiz'}, {'score': 88.48032660881387, 'type': 'homework'}]}\n",
      "{'_id': 149, 'name': 'Synthia Labelle', 'scores': [{'score': 11.06312649271668, 'type': 'exam'}, {'score': 89.27462706564148, 'type': 'quiz'}, {'score': 41.1722010153017, 'type': 'homework'}]}\n",
      "{'_id': 150, 'name': 'Eugene Magdaleno', 'scores': [{'score': 69.64543341032858, 'type': 'exam'}, {'score': 17.46202326917462, 'type': 'quiz'}, {'score': 39.41502498794787, 'type': 'homework'}]}\n",
      "{'_id': 151, 'name': 'Meagan Oakes', 'scores': [{'score': 75.02808260234913, 'type': 'exam'}, {'score': 35.45524188731927, 'type': 'quiz'}, {'score': 75.84754202828454, 'type': 'homework'}]}\n",
      "{'_id': 152, 'name': 'Richelle Siemers', 'scores': [{'score': 52.0158789874646, 'type': 'exam'}, {'score': 19.25549934746802, 'type': 'quiz'}, {'score': 68.33217408510437, 'type': 'homework'}]}\n",
      "{'_id': 153, 'name': 'Mariette Batdorf', 'scores': [{'score': 91.38690728885123, 'type': 'exam'}, {'score': 39.98831767858929, 'type': 'quiz'}, {'score': 51.59702098442595, 'type': 'homework'}]}\n",
      "{'_id': 154, 'name': 'Rachell Aman', 'scores': [{'score': 94.50988306850947, 'type': 'exam'}, {'score': 5.68414255121964, 'type': 'quiz'}, {'score': 64.46720717616572, 'type': 'homework'}]}\n",
      "{'_id': 155, 'name': 'Aleida Elsass', 'scores': [{'score': 42.89558347656537, 'type': 'exam'}, {'score': 94.10647660402866, 'type': 'quiz'}, {'score': 30.56402201379193, 'type': 'homework'}]}\n",
      "{'_id': 156, 'name': 'Kayce Kenyon', 'scores': [{'score': 54.00824880446614, 'type': 'exam'}, {'score': 19.20300722190935, 'type': 'quiz'}, {'score': 71.57649363606814, 'type': 'homework'}]}\n",
      "{'_id': 157, 'name': 'Ernestine Macfarland', 'scores': [{'score': 9.666623747888858, 'type': 'exam'}, {'score': 98.76040135775126, 'type': 'quiz'}, {'score': 51.67453757397309, 'type': 'homework'}]}\n",
      "{'_id': 158, 'name': 'Houston Valenti', 'scores': [{'score': 68.36209185504055, 'type': 'exam'}, {'score': 15.83819664395878, 'type': 'quiz'}, {'score': 81.7258704821604, 'type': 'homework'}]}\n",
      "{'_id': 159, 'name': 'Terica Brugger', 'scores': [{'score': 97.822030541043, 'type': 'exam'}, {'score': 91.56280485763772, 'type': 'quiz'}, {'score': 62.01976292987356, 'type': 'homework'}]}\n",
      "{'_id': 160, 'name': 'Lady Lefevers', 'scores': [{'score': 89.14702404133767, 'type': 'exam'}, {'score': 11.85715160788611, 'type': 'quiz'}, {'score': 87.70817474845785, 'type': 'homework'}]}\n",
      "{'_id': 161, 'name': 'Kurtis Jiles', 'scores': [{'score': 38.84932631249875, 'type': 'exam'}, {'score': 75.6856190089661, 'type': 'quiz'}, {'score': 54.8262895255851, 'type': 'homework'}]}\n",
      "{'_id': 162, 'name': 'Barbera Lippman', 'scores': [{'score': 10.1210778879972, 'type': 'exam'}, {'score': 57.39236107118298, 'type': 'quiz'}, {'score': 56.36039761834183, 'type': 'homework'}]}\n",
      "{'_id': 163, 'name': 'Dinah Sauve', 'scores': [{'score': 9.660849614328693, 'type': 'exam'}, {'score': 0.710026283123355, 'type': 'quiz'}, {'score': 64.85706587155985, 'type': 'homework'}]}\n",
      "{'_id': 164, 'name': 'Alica Pasley', 'scores': [{'score': 41.3852820348269, 'type': 'exam'}, {'score': 87.0183839032626, 'type': 'quiz'}, {'score': 37.22917544696978, 'type': 'homework'}]}\n",
      "{'_id': 165, 'name': 'Elizabet Kleine', 'scores': [{'score': 23.35599596646158, 'type': 'exam'}, {'score': 45.42989961046475, 'type': 'quiz'}, {'score': 59.29421526983006, 'type': 'homework'}]}\n",
      "{'_id': 166, 'name': 'Tawana Oberg', 'scores': [{'score': 79.24755285478162, 'type': 'exam'}, {'score': 97.28127199858804, 'type': 'quiz'}, {'score': 67.0528222080174, 'type': 'homework'}]}\n",
      "{'_id': 167, 'name': 'Malisa Jeanes', 'scores': [{'score': 40.68676040665008, 'type': 'exam'}, {'score': 52.60826688242043, 'type': 'quiz'}, {'score': 94.67979508129564, 'type': 'homework'}]}\n",
      "{'_id': 168, 'name': 'Joel Rueter', 'scores': [{'score': 21.78981361637835, 'type': 'exam'}, {'score': 1.182228345865832, 'type': 'quiz'}, {'score': 43.70843975739338, 'type': 'homework'}]}\n",
      "{'_id': 169, 'name': 'Tresa Sinha', 'scores': [{'score': 52.22632020277269, 'type': 'exam'}, {'score': 65.68701091428014, 'type': 'quiz'}, {'score': 86.80410157346574, 'type': 'homework'}]}\n",
      "{'_id': 170, 'name': 'Danika Loeffler', 'scores': [{'score': 80.13802901122058, 'type': 'exam'}, {'score': 9.613195588726075, 'type': 'quiz'}, {'score': 88.1580114788293, 'type': 'homework'}]}\n",
      "{'_id': 171, 'name': 'Chad Rahe', 'scores': [{'score': 81.24054522370292, 'type': 'exam'}, {'score': 17.44929152365297, 'type': 'quiz'}, {'score': 82.77870021356301, 'type': 'homework'}]}\n",
      "{'_id': 172, 'name': 'Joaquina Arbuckle', 'scores': [{'score': 35.43562368815135, 'type': 'exam'}, {'score': 89.74640983145014, 'type': 'quiz'}, {'score': 99.13868686848834, 'type': 'homework'}]}\n",
      "{'_id': 173, 'name': 'Vinnie Auerbach', 'scores': [{'score': 57.26312067710243, 'type': 'exam'}, {'score': 20.63583040849144, 'type': 'quiz'}, {'score': 77.02638482252677, 'type': 'homework'}]}\n",
      "{'_id': 174, 'name': 'Dusti Lemmond', 'scores': [{'score': 91.51968055194875, 'type': 'exam'}, {'score': 50.37682668957234, 'type': 'quiz'}, {'score': 51.53939113583016, 'type': 'homework'}]}\n",
      "{'_id': 175, 'name': 'Grady Zemke', 'scores': [{'score': 10.37320113489379, 'type': 'exam'}, {'score': 10.51344428386458, 'type': 'quiz'}, {'score': 85.47180043794621, 'type': 'homework'}]}\n",
      "{'_id': 176, 'name': 'Vina Matsunaga', 'scores': [{'score': 73.30054989074031, 'type': 'exam'}, {'score': 4.21754550016783, 'type': 'quiz'}, {'score': 56.31150858550771, 'type': 'homework'}]}\n",
      "{'_id': 177, 'name': 'Rubie Winton', 'scores': [{'score': 36.1767454709986, 'type': 'exam'}, {'score': 89.39738121365069, 'type': 'quiz'}, {'score': 90.83326208217305, 'type': 'homework'}]}\n",
      "{'_id': 178, 'name': 'Whitley Fears', 'scores': [{'score': 20.84454374176408, 'type': 'exam'}, {'score': 57.14851257871499, 'type': 'quiz'}, {'score': 99.77237745070993, 'type': 'homework'}]}\n",
      "{'_id': 179, 'name': 'Gena Riccio', 'scores': [{'score': 81.49070346172086, 'type': 'exam'}, {'score': 23.12653402998139, 'type': 'quiz'}, {'score': 96.54590960898932, 'type': 'homework'}]}\n",
      "{'_id': 180, 'name': 'Kim Xu', 'scores': [{'score': 29.1596029917098, 'type': 'exam'}, {'score': 74.41836270655918, 'type': 'quiz'}, {'score': 56.64965514703727, 'type': 'homework'}]}\n",
      "{'_id': 181, 'name': 'Merissa Mann', 'scores': [{'score': 0.7300279717432967, 'type': 'exam'}, {'score': 39.49170592908128, 'type': 'quiz'}, {'score': 60.49619334485811, 'type': 'homework'}]}\n",
      "{'_id': 182, 'name': 'Jenise Mcguffie', 'scores': [{'score': 83.68438201130127, 'type': 'exam'}, {'score': 73.79931763764928, 'type': 'quiz'}, {'score': 89.57200947426745, 'type': 'homework'}]}\n",
      "{'_id': 183, 'name': 'Cody Strouth', 'scores': [{'score': 32.99854612126559, 'type': 'exam'}, {'score': 78.61720316992681, 'type': 'quiz'}, {'score': 89.62847560459466, 'type': 'homework'}]}\n",
      "{'_id': 184, 'name': 'Harriett Velarde', 'scores': [{'score': 41.47988283148075, 'type': 'exam'}, {'score': 95.69493673358075, 'type': 'quiz'}, {'score': 83.03916048182315, 'type': 'homework'}]}\n",
      "{'_id': 185, 'name': 'Kam Senters', 'scores': [{'score': 49.8822537074033, 'type': 'exam'}, {'score': 45.29515361387067, 'type': 'quiz'}, {'score': 68.88048980292801, 'type': 'homework'}]}\n",
      "{'_id': 186, 'name': 'Leonida Lafond', 'scores': [{'score': 8.125073097960179, 'type': 'exam'}, {'score': 0.2017888852605676, 'type': 'quiz'}, {'score': 90.13081857264544, 'type': 'homework'}]}\n",
      "{'_id': 187, 'name': 'Devorah Smartt', 'scores': [{'score': 23.94616611315642, 'type': 'exam'}, {'score': 13.27371116063025, 'type': 'quiz'}, {'score': 63.17281121561749, 'type': 'homework'}]}\n",
      "{'_id': 188, 'name': 'Leola Lundin', 'scores': [{'score': 60.314725741828, 'type': 'exam'}, {'score': 41.12327471818652, 'type': 'quiz'}, {'score': 74.8699176311771, 'type': 'homework'}]}\n",
      "{'_id': 189, 'name': 'Tonia Surace', 'scores': [{'score': 67.93405589675187, 'type': 'exam'}, {'score': 31.49721116485943, 'type': 'quiz'}, {'score': 82.36495908047985, 'type': 'homework'}]}\n",
      "{'_id': 190, 'name': 'Adrien Renda', 'scores': [{'score': 64.16109192679477, 'type': 'exam'}, {'score': 66.93730600935531, 'type': 'quiz'}, {'score': 96.0560340227047, 'type': 'homework'}]}\n",
      "{'_id': 191, 'name': 'Efrain Claw', 'scores': [{'score': 94.67153825229884, 'type': 'exam'}, {'score': 82.30087932110595, 'type': 'quiz'}, {'score': 75.86075840047938, 'type': 'homework'}]}\n",
      "{'_id': 192, 'name': 'Len Treiber', 'scores': [{'score': 39.19832917406515, 'type': 'exam'}, {'score': 98.71679252899352, 'type': 'quiz'}, {'score': 44.8228929481132, 'type': 'homework'}]}\n",
      "{'_id': 193, 'name': 'Mariela Sherer', 'scores': [{'score': 47.67196715489599, 'type': 'exam'}, {'score': 41.55743490493954, 'type': 'quiz'}, {'score': 70.4612811769744, 'type': 'homework'}]}\n",
      "{'_id': 194, 'name': 'Echo Pippins', 'scores': [{'score': 18.09013691507853, 'type': 'exam'}, {'score': 35.00306967250408, 'type': 'quiz'}, {'score': 80.17965154316731, 'type': 'homework'}]}\n",
      "{'_id': 195, 'name': 'Linnie Weigel', 'scores': [{'score': 52.44578368517977, 'type': 'exam'}, {'score': 90.7775054046383, 'type': 'quiz'}, {'score': 11.75008382913026, 'type': 'homework'}]}\n",
      "{'_id': 196, 'name': 'Santiago Dollins', 'scores': [{'score': 52.04052571137036, 'type': 'exam'}, {'score': 33.63300076481705, 'type': 'quiz'}, {'score': 78.79257377604428, 'type': 'homework'}]}\n",
      "{'_id': 197, 'name': 'Tonisha Games', 'scores': [{'score': 38.51269589995049, 'type': 'exam'}, {'score': 31.16287577231703, 'type': 'quiz'}, {'score': 79.15856355963004, 'type': 'homework'}]}\n",
      "{'_id': 198, 'name': 'Timothy Harrod', 'scores': [{'score': 11.9075674046519, 'type': 'exam'}, {'score': 20.51879961777022, 'type': 'quiz'}, {'score': 64.85650354990375, 'type': 'homework'}]}\n",
      "{'_id': 199, 'name': 'Rae Kohout', 'scores': [{'score': 82.11742562118049, 'type': 'exam'}, {'score': 49.61295450928224, 'type': 'quiz'}, {'score': 28.86823689842918, 'type': 'homework'}]}\n"
     ]
    }
   ],
   "source": [
    "studentdata = db.studentcollection.find()\n",
    "\n",
    "for i in studentdata:\n",
    "    print(i)"
   ]
  },
  {
   "cell_type": "markdown",
   "metadata": {},
   "source": [
    "**1) Find the student name who scored maximum scores in all (exam, quiz and homework)?**"
   ]
  },
  {
   "cell_type": "code",
   "execution_count": 22,
   "metadata": {},
   "outputs": [
    {
     "data": {
      "text/plain": [
       "200"
      ]
     },
     "execution_count": 22,
     "metadata": {},
     "output_type": "execute_result"
    }
   ],
   "source": [
    "db = myclient.StudentData ## creating a separate collection\n",
    "ex = db.exam_collection\n",
    "ex.count_documents({})"
   ]
  },
  {
   "cell_type": "code",
   "execution_count": 23,
   "metadata": {},
   "outputs": [],
   "source": [
    "ex.drop()"
   ]
  },
  {
   "cell_type": "code",
   "execution_count": 24,
   "metadata": {},
   "outputs": [],
   "source": [
    "for j in range(200):\n",
    "  x=data.aggregate([{\"$match\":{\"_id\":j}},{\"$unwind\":\"$scores\"},{\"$match\":{\"scores.type\":\"exam\"}},{\"$sort\":{\"scores.score\":-1}}])\n",
    "  for i in x:\n",
    "    i=ex.insert_many([i])"
   ]
  },
  {
   "cell_type": "code",
   "execution_count": 25,
   "metadata": {},
   "outputs": [
    {
     "name": "stdout",
     "output_type": "stream",
     "text": [
      "{'_id': 136, 'name': 'Margart Vitello', 'scores': {'score': 99.33685767140612, 'type': 'exam'}}\n"
     ]
    }
   ],
   "source": [
    "#student who score highest score in exam\n",
    "s=ex.find().sort('scores.score',-1).limit(1)\n",
    "for i in s:\n",
    "  print(i)"
   ]
  },
  {
   "cell_type": "code",
   "execution_count": 26,
   "metadata": {},
   "outputs": [
    {
     "data": {
      "text/plain": [
       "200"
      ]
     },
     "execution_count": 26,
     "metadata": {},
     "output_type": "execute_result"
    }
   ],
   "source": [
    "ex.count_documents({})"
   ]
  },
  {
   "cell_type": "code",
   "execution_count": 27,
   "metadata": {},
   "outputs": [
    {
     "data": {
      "text/plain": [
       "200"
      ]
     },
     "execution_count": 27,
     "metadata": {},
     "output_type": "execute_result"
    }
   ],
   "source": [
    "db = myclient.StudentData # creating each different collection\n",
    "qz=db.qzcollection\n",
    "qz.count_documents({})"
   ]
  },
  {
   "cell_type": "code",
   "execution_count": 82,
   "metadata": {},
   "outputs": [],
   "source": [
    "qz.drop()"
   ]
  },
  {
   "cell_type": "code",
   "execution_count": 124,
   "metadata": {},
   "outputs": [
    {
     "ename": "BulkWriteError",
     "evalue": "batch op errors occurred, full error: {'writeErrors': [{'index': 0, 'code': 11000, 'keyPattern': {'_id': 1}, 'keyValue': {'_id': 0}, 'errmsg': 'E11000 duplicate key error collection: StudentData.qzcollection index: _id_ dup key: { _id: 0 }', 'op': {'_id': 0, 'name': 'aimee Zank', 'scores': {'score': 11.78273309957772, 'type': 'quiz'}}}], 'writeConcernErrors': [], 'nInserted': 0, 'nUpserted': 0, 'nMatched': 0, 'nModified': 0, 'nRemoved': 0, 'upserted': []}",
     "output_type": "error",
     "traceback": [
      "\u001b[1;31m---------------------------------------------------------------------------\u001b[0m",
      "\u001b[1;31mBulkWriteError\u001b[0m                            Traceback (most recent call last)",
      "\u001b[1;32m<ipython-input-124-79fc944f34e2>\u001b[0m in \u001b[0;36m<module>\u001b[1;34m\u001b[0m\n\u001b[0;32m      2\u001b[0m   \u001b[0mx\u001b[0m \u001b[1;33m=\u001b[0m \u001b[0mdata\u001b[0m\u001b[1;33m.\u001b[0m\u001b[0maggregate\u001b[0m\u001b[1;33m(\u001b[0m\u001b[1;33m[\u001b[0m\u001b[1;33m{\u001b[0m\u001b[1;34m\"$match\"\u001b[0m\u001b[1;33m:\u001b[0m\u001b[1;33m{\u001b[0m\u001b[1;34m\"_id\"\u001b[0m\u001b[1;33m:\u001b[0m\u001b[0mj\u001b[0m\u001b[1;33m}\u001b[0m\u001b[1;33m}\u001b[0m\u001b[1;33m,\u001b[0m\u001b[1;33m{\u001b[0m\u001b[1;34m\"$unwind\"\u001b[0m\u001b[1;33m:\u001b[0m\u001b[1;34m\"$scores\"\u001b[0m\u001b[1;33m}\u001b[0m\u001b[1;33m,\u001b[0m\u001b[1;33m{\u001b[0m\u001b[1;34m\"$match\"\u001b[0m\u001b[1;33m:\u001b[0m\u001b[1;33m{\u001b[0m\u001b[1;34m\"scores.type\"\u001b[0m\u001b[1;33m:\u001b[0m\u001b[1;34m\"quiz\"\u001b[0m\u001b[1;33m}\u001b[0m\u001b[1;33m}\u001b[0m\u001b[1;33m,\u001b[0m\u001b[1;33m{\u001b[0m\u001b[1;34m\"$sort\"\u001b[0m\u001b[1;33m:\u001b[0m\u001b[1;33m{\u001b[0m\u001b[1;34m\"scores.score\"\u001b[0m\u001b[1;33m:\u001b[0m\u001b[1;33m-\u001b[0m\u001b[1;36m1\u001b[0m\u001b[1;33m}\u001b[0m\u001b[1;33m}\u001b[0m\u001b[1;33m]\u001b[0m\u001b[1;33m)\u001b[0m\u001b[1;33m\u001b[0m\u001b[1;33m\u001b[0m\u001b[0m\n\u001b[0;32m      3\u001b[0m   \u001b[1;32mfor\u001b[0m \u001b[0mi\u001b[0m \u001b[1;32min\u001b[0m \u001b[0mx\u001b[0m\u001b[1;33m:\u001b[0m\u001b[1;33m\u001b[0m\u001b[1;33m\u001b[0m\u001b[0m\n\u001b[1;32m----> 4\u001b[1;33m     \u001b[0mi\u001b[0m\u001b[1;33m=\u001b[0m\u001b[0mqz\u001b[0m\u001b[1;33m.\u001b[0m\u001b[0minsert_many\u001b[0m\u001b[1;33m(\u001b[0m\u001b[1;33m[\u001b[0m\u001b[0mi\u001b[0m\u001b[1;33m]\u001b[0m\u001b[1;33m)\u001b[0m\u001b[1;33m\u001b[0m\u001b[1;33m\u001b[0m\u001b[0m\n\u001b[0m",
      "\u001b[1;32m~\\Anaconda3\\lib\\site-packages\\pymongo\\_csot.py\u001b[0m in \u001b[0;36mcsot_wrapper\u001b[1;34m(self, *args, **kwargs)\u001b[0m\n\u001b[0;32m    103\u001b[0m                 \u001b[1;32mwith\u001b[0m \u001b[0m_TimeoutContext\u001b[0m\u001b[1;33m(\u001b[0m\u001b[0mtimeout\u001b[0m\u001b[1;33m)\u001b[0m\u001b[1;33m:\u001b[0m\u001b[1;33m\u001b[0m\u001b[1;33m\u001b[0m\u001b[0m\n\u001b[0;32m    104\u001b[0m                     \u001b[1;32mreturn\u001b[0m \u001b[0mfunc\u001b[0m\u001b[1;33m(\u001b[0m\u001b[0mself\u001b[0m\u001b[1;33m,\u001b[0m \u001b[1;33m*\u001b[0m\u001b[0margs\u001b[0m\u001b[1;33m,\u001b[0m \u001b[1;33m**\u001b[0m\u001b[0mkwargs\u001b[0m\u001b[1;33m)\u001b[0m\u001b[1;33m\u001b[0m\u001b[1;33m\u001b[0m\u001b[0m\n\u001b[1;32m--> 105\u001b[1;33m         \u001b[1;32mreturn\u001b[0m \u001b[0mfunc\u001b[0m\u001b[1;33m(\u001b[0m\u001b[0mself\u001b[0m\u001b[1;33m,\u001b[0m \u001b[1;33m*\u001b[0m\u001b[0margs\u001b[0m\u001b[1;33m,\u001b[0m \u001b[1;33m**\u001b[0m\u001b[0mkwargs\u001b[0m\u001b[1;33m)\u001b[0m\u001b[1;33m\u001b[0m\u001b[1;33m\u001b[0m\u001b[0m\n\u001b[0m\u001b[0;32m    106\u001b[0m \u001b[1;33m\u001b[0m\u001b[0m\n\u001b[0;32m    107\u001b[0m     \u001b[1;32mreturn\u001b[0m \u001b[0mcast\u001b[0m\u001b[1;33m(\u001b[0m\u001b[0mF\u001b[0m\u001b[1;33m,\u001b[0m \u001b[0mcsot_wrapper\u001b[0m\u001b[1;33m)\u001b[0m\u001b[1;33m\u001b[0m\u001b[1;33m\u001b[0m\u001b[0m\n",
      "\u001b[1;32m~\\Anaconda3\\lib\\site-packages\\pymongo\\collection.py\u001b[0m in \u001b[0;36minsert_many\u001b[1;34m(self, documents, ordered, bypass_document_validation, session, comment)\u001b[0m\n\u001b[0;32m    705\u001b[0m         \u001b[0mblk\u001b[0m \u001b[1;33m=\u001b[0m \u001b[0m_Bulk\u001b[0m\u001b[1;33m(\u001b[0m\u001b[0mself\u001b[0m\u001b[1;33m,\u001b[0m \u001b[0mordered\u001b[0m\u001b[1;33m,\u001b[0m \u001b[0mbypass_document_validation\u001b[0m\u001b[1;33m,\u001b[0m \u001b[0mcomment\u001b[0m\u001b[1;33m=\u001b[0m\u001b[0mcomment\u001b[0m\u001b[1;33m)\u001b[0m\u001b[1;33m\u001b[0m\u001b[1;33m\u001b[0m\u001b[0m\n\u001b[0;32m    706\u001b[0m         \u001b[0mblk\u001b[0m\u001b[1;33m.\u001b[0m\u001b[0mops\u001b[0m \u001b[1;33m=\u001b[0m \u001b[1;33m[\u001b[0m\u001b[0mdoc\u001b[0m \u001b[1;32mfor\u001b[0m \u001b[0mdoc\u001b[0m \u001b[1;32min\u001b[0m \u001b[0mgen\u001b[0m\u001b[1;33m(\u001b[0m\u001b[1;33m)\u001b[0m\u001b[1;33m]\u001b[0m\u001b[1;33m\u001b[0m\u001b[1;33m\u001b[0m\u001b[0m\n\u001b[1;32m--> 707\u001b[1;33m         \u001b[0mblk\u001b[0m\u001b[1;33m.\u001b[0m\u001b[0mexecute\u001b[0m\u001b[1;33m(\u001b[0m\u001b[0mwrite_concern\u001b[0m\u001b[1;33m,\u001b[0m \u001b[0msession\u001b[0m\u001b[1;33m=\u001b[0m\u001b[0msession\u001b[0m\u001b[1;33m)\u001b[0m\u001b[1;33m\u001b[0m\u001b[1;33m\u001b[0m\u001b[0m\n\u001b[0m\u001b[0;32m    708\u001b[0m         \u001b[1;32mreturn\u001b[0m \u001b[0mInsertManyResult\u001b[0m\u001b[1;33m(\u001b[0m\u001b[0minserted_ids\u001b[0m\u001b[1;33m,\u001b[0m \u001b[0mwrite_concern\u001b[0m\u001b[1;33m.\u001b[0m\u001b[0macknowledged\u001b[0m\u001b[1;33m)\u001b[0m\u001b[1;33m\u001b[0m\u001b[1;33m\u001b[0m\u001b[0m\n\u001b[0;32m    709\u001b[0m \u001b[1;33m\u001b[0m\u001b[0m\n",
      "\u001b[1;32m~\\Anaconda3\\lib\\site-packages\\pymongo\\bulk.py\u001b[0m in \u001b[0;36mexecute\u001b[1;34m(self, write_concern, session)\u001b[0m\n\u001b[0;32m    511\u001b[0m                 \u001b[0mself\u001b[0m\u001b[1;33m.\u001b[0m\u001b[0mexecute_no_results\u001b[0m\u001b[1;33m(\u001b[0m\u001b[0msock_info\u001b[0m\u001b[1;33m,\u001b[0m \u001b[0mgenerator\u001b[0m\u001b[1;33m,\u001b[0m \u001b[0mwrite_concern\u001b[0m\u001b[1;33m)\u001b[0m\u001b[1;33m\u001b[0m\u001b[1;33m\u001b[0m\u001b[0m\n\u001b[0;32m    512\u001b[0m         \u001b[1;32melse\u001b[0m\u001b[1;33m:\u001b[0m\u001b[1;33m\u001b[0m\u001b[1;33m\u001b[0m\u001b[0m\n\u001b[1;32m--> 513\u001b[1;33m             \u001b[1;32mreturn\u001b[0m \u001b[0mself\u001b[0m\u001b[1;33m.\u001b[0m\u001b[0mexecute_command\u001b[0m\u001b[1;33m(\u001b[0m\u001b[0mgenerator\u001b[0m\u001b[1;33m,\u001b[0m \u001b[0mwrite_concern\u001b[0m\u001b[1;33m,\u001b[0m \u001b[0msession\u001b[0m\u001b[1;33m)\u001b[0m\u001b[1;33m\u001b[0m\u001b[1;33m\u001b[0m\u001b[0m\n\u001b[0m",
      "\u001b[1;32m~\\Anaconda3\\lib\\site-packages\\pymongo\\bulk.py\u001b[0m in \u001b[0;36mexecute_command\u001b[1;34m(self, generator, write_concern, session)\u001b[0m\n\u001b[0;32m    392\u001b[0m \u001b[1;33m\u001b[0m\u001b[0m\n\u001b[0;32m    393\u001b[0m         \u001b[1;32mif\u001b[0m \u001b[0mfull_result\u001b[0m\u001b[1;33m[\u001b[0m\u001b[1;34m\"writeErrors\"\u001b[0m\u001b[1;33m]\u001b[0m \u001b[1;32mor\u001b[0m \u001b[0mfull_result\u001b[0m\u001b[1;33m[\u001b[0m\u001b[1;34m\"writeConcernErrors\"\u001b[0m\u001b[1;33m]\u001b[0m\u001b[1;33m:\u001b[0m\u001b[1;33m\u001b[0m\u001b[1;33m\u001b[0m\u001b[0m\n\u001b[1;32m--> 394\u001b[1;33m             \u001b[0m_raise_bulk_write_error\u001b[0m\u001b[1;33m(\u001b[0m\u001b[0mfull_result\u001b[0m\u001b[1;33m)\u001b[0m\u001b[1;33m\u001b[0m\u001b[1;33m\u001b[0m\u001b[0m\n\u001b[0m\u001b[0;32m    395\u001b[0m         \u001b[1;32mreturn\u001b[0m \u001b[0mfull_result\u001b[0m\u001b[1;33m\u001b[0m\u001b[1;33m\u001b[0m\u001b[0m\n\u001b[0;32m    396\u001b[0m \u001b[1;33m\u001b[0m\u001b[0m\n",
      "\u001b[1;32m~\\Anaconda3\\lib\\site-packages\\pymongo\\bulk.py\u001b[0m in \u001b[0;36m_raise_bulk_write_error\u001b[1;34m(full_result)\u001b[0m\n\u001b[0;32m    134\u001b[0m     \u001b[1;32mif\u001b[0m \u001b[0mfull_result\u001b[0m\u001b[1;33m[\u001b[0m\u001b[1;34m\"writeErrors\"\u001b[0m\u001b[1;33m]\u001b[0m\u001b[1;33m:\u001b[0m\u001b[1;33m\u001b[0m\u001b[1;33m\u001b[0m\u001b[0m\n\u001b[0;32m    135\u001b[0m         \u001b[0mfull_result\u001b[0m\u001b[1;33m[\u001b[0m\u001b[1;34m\"writeErrors\"\u001b[0m\u001b[1;33m]\u001b[0m\u001b[1;33m.\u001b[0m\u001b[0msort\u001b[0m\u001b[1;33m(\u001b[0m\u001b[0mkey\u001b[0m\u001b[1;33m=\u001b[0m\u001b[1;32mlambda\u001b[0m \u001b[0merror\u001b[0m\u001b[1;33m:\u001b[0m \u001b[0merror\u001b[0m\u001b[1;33m[\u001b[0m\u001b[1;34m\"index\"\u001b[0m\u001b[1;33m]\u001b[0m\u001b[1;33m)\u001b[0m\u001b[1;33m\u001b[0m\u001b[1;33m\u001b[0m\u001b[0m\n\u001b[1;32m--> 136\u001b[1;33m     \u001b[1;32mraise\u001b[0m \u001b[0mBulkWriteError\u001b[0m\u001b[1;33m(\u001b[0m\u001b[0mfull_result\u001b[0m\u001b[1;33m)\u001b[0m\u001b[1;33m\u001b[0m\u001b[1;33m\u001b[0m\u001b[0m\n\u001b[0m\u001b[0;32m    137\u001b[0m \u001b[1;33m\u001b[0m\u001b[0m\n\u001b[0;32m    138\u001b[0m \u001b[1;33m\u001b[0m\u001b[0m\n",
      "\u001b[1;31mBulkWriteError\u001b[0m: batch op errors occurred, full error: {'writeErrors': [{'index': 0, 'code': 11000, 'keyPattern': {'_id': 1}, 'keyValue': {'_id': 0}, 'errmsg': 'E11000 duplicate key error collection: StudentData.qzcollection index: _id_ dup key: { _id: 0 }', 'op': {'_id': 0, 'name': 'aimee Zank', 'scores': {'score': 11.78273309957772, 'type': 'quiz'}}}], 'writeConcernErrors': [], 'nInserted': 0, 'nUpserted': 0, 'nMatched': 0, 'nModified': 0, 'nRemoved': 0, 'upserted': []}"
     ]
    }
   ],
   "source": [
    "for j in range(200):\n",
    "  x = data.aggregate([{\"$match\":{\"_id\":j}},{\"$unwind\":\"$scores\"},{\"$match\":{\"scores.type\":\"quiz\"}},{\"$sort\":{\"scores.score\":-1}}])\n",
    "  for i in x:\n",
    "    i=qz.insert_many([i])"
   ]
  },
  {
   "cell_type": "code",
   "execution_count": 125,
   "metadata": {},
   "outputs": [
    {
     "name": "stdout",
     "output_type": "stream",
     "text": [
      "{'_id': 69, 'name': 'Cody Strouth', 'scores': {'score': 99.80348240553108, 'type': 'quiz'}}\n"
     ]
    }
   ],
   "source": [
    "#student who score highest score in quiz\n",
    "x = qz.find().sort('scores.score',-1).limit(1)\n",
    "for i in x:\n",
    "    print(i)"
   ]
  },
  {
   "cell_type": "code",
   "execution_count": 126,
   "metadata": {},
   "outputs": [
    {
     "data": {
      "text/plain": [
       "200"
      ]
     },
     "execution_count": 126,
     "metadata": {},
     "output_type": "execute_result"
    }
   ],
   "source": [
    "qz.count_documents({}) \n",
    "## verifying the no.of. documents"
   ]
  },
  {
   "cell_type": "code",
   "execution_count": 127,
   "metadata": {},
   "outputs": [
    {
     "data": {
      "text/plain": [
       "200"
      ]
     },
     "execution_count": 127,
     "metadata": {},
     "output_type": "execute_result"
    }
   ],
   "source": [
    "db = myclient.StudentData\n",
    "hw=db.hwcollection\n",
    "hw.count_documents({})"
   ]
  },
  {
   "cell_type": "code",
   "execution_count": 128,
   "metadata": {},
   "outputs": [],
   "source": [
    "hw.drop()"
   ]
  },
  {
   "cell_type": "code",
   "execution_count": 129,
   "metadata": {},
   "outputs": [],
   "source": [
    "for j in range(200):\n",
    "  x = data.aggregate([{\"$match\":{\"_id\":j}},{\"$unwind\":\"$scores\"},{\"$match\":{\"scores.type\":\"homework\"}},{\"$sort\":{\"scores.score\":-1}}])\n",
    "  for i in x:\n",
    "    i=hw.insert_many([i])"
   ]
  },
  {
   "cell_type": "code",
   "execution_count": 130,
   "metadata": {},
   "outputs": [
    {
     "name": "stdout",
     "output_type": "stream",
     "text": [
      "{'_id': 178, 'name': 'Whitley Fears', 'scores': {'score': 99.77237745070993, 'type': 'homework'}}\n"
     ]
    }
   ],
   "source": [
    "#student who score highest score in homework\n",
    "x = hw.find().sort('scores.score',-1).limit(1)\n",
    "for i in x:\n",
    "    print(i)"
   ]
  },
  {
   "cell_type": "code",
   "execution_count": 131,
   "metadata": {},
   "outputs": [
    {
     "data": {
      "text/plain": [
       "200"
      ]
     },
     "execution_count": 131,
     "metadata": {},
     "output_type": "execute_result"
    }
   ],
   "source": [
    "hw.count_documents({})"
   ]
  },
  {
   "cell_type": "markdown",
   "metadata": {},
   "source": [
    "### 1) Find the student name who scored maximum scores in all (exam, quiz and homework)?\n",
    "\n",
    "#### max score in exam\n",
    "{'_id': 136, 'name': 'Margart Vitello', 'scores': {'score': 99.33685767140612, 'type': 'exam'}}\n",
    "#### max score in quiz ---  'Cody Strouth'\n",
    "{'_id': 69, 'name': 'Cody Strouth', 'scores': {'score': 99.80348240553108, 'type': 'quiz'}} \n",
    "#### max score in homework --- 'Whitley Fears'\n",
    "{'_id': 178, 'name': 'Whitley Fears', 'scores': {'score': 99.77237745070993, 'type': 'homework'}}"
   ]
  },
  {
   "cell_type": "code",
   "execution_count": null,
   "metadata": {},
   "outputs": [],
   "source": []
  },
  {
   "cell_type": "markdown",
   "metadata": {},
   "source": [
    "**2) Find students who scored below average in the exam and pass mark is 40%?**"
   ]
  },
  {
   "cell_type": "code",
   "execution_count": 91,
   "metadata": {},
   "outputs": [],
   "source": [
    "# avg score in exam\n",
    "x = db.excollection.aggregate([{'$group' : {'_id' : \"null\", \"avg_exam\" : {'$avg' : \"$scores.score\"}}}])\n",
    "for i in x:\n",
    "    print(i)"
   ]
  },
  {
   "cell_type": "code",
   "execution_count": 92,
   "metadata": {},
   "outputs": [
    {
     "data": {
      "text/plain": [
       "0"
      ]
     },
     "execution_count": 92,
     "metadata": {},
     "output_type": "execute_result"
    }
   ],
   "source": [
    "db = myclient.StudentData\n",
    "less =db.lesscollection\n",
    "less.count_documents({})"
   ]
  },
  {
   "cell_type": "code",
   "execution_count": 93,
   "metadata": {},
   "outputs": [],
   "source": [
    "less.drop()"
   ]
  },
  {
   "cell_type": "code",
   "execution_count": 94,
   "metadata": {},
   "outputs": [],
   "source": [
    "# less than avg score in exam\n",
    "x=db.exam_collection.find({'scores.score':{'$lt':48.67367075950175} })\n",
    "for i in x:\n",
    "   i=less.insert_many([i])\n",
    "    #print(i)"
   ]
  },
  {
   "cell_type": "code",
   "execution_count": 95,
   "metadata": {},
   "outputs": [
    {
     "data": {
      "text/plain": [
       "104"
      ]
     },
     "execution_count": 95,
     "metadata": {},
     "output_type": "execute_result"
    }
   ],
   "source": [
    "less.count_documents({})"
   ]
  },
  {
   "cell_type": "markdown",
   "metadata": {},
   "source": [
    "### 2) Find students who scored below average in the exam and pass mark is 40%? \n",
    "\n",
    "lessavg collection shows the students who scored below average in exam is 104"
   ]
  },
  {
   "cell_type": "code",
   "execution_count": null,
   "metadata": {},
   "outputs": [],
   "source": []
  },
  {
   "cell_type": "markdown",
   "metadata": {},
   "source": [
    "**3) Find students who scored below pass mark and assigned them as fail, and above pass mark as pass in all the categories.**"
   ]
  },
  {
   "cell_type": "code",
   "execution_count": 96,
   "metadata": {},
   "outputs": [
    {
     "data": {
      "text/plain": [
       "0"
      ]
     },
     "execution_count": 96,
     "metadata": {},
     "output_type": "execute_result"
    }
   ],
   "source": [
    "# 1 Exam Failure List\n",
    "db = myclient.StudentData\n",
    "fex=db.fexm\n",
    "fex.count_documents({})"
   ]
  },
  {
   "cell_type": "code",
   "execution_count": 97,
   "metadata": {},
   "outputs": [],
   "source": [
    "fex.drop()"
   ]
  },
  {
   "cell_type": "code",
   "execution_count": 98,
   "metadata": {},
   "outputs": [
    {
     "data": {
      "text/plain": [
       "81"
      ]
     },
     "execution_count": 98,
     "metadata": {},
     "output_type": "execute_result"
    }
   ],
   "source": [
    "x=db.exam_collection.find(\n",
    "    {'scores.score':{'$lt':40}}\n",
    ")\n",
    "for i in x:\n",
    "  i=fex.insert_many([i])\n",
    "\n",
    "fex.count_documents({})"
   ]
  },
  {
   "cell_type": "code",
   "execution_count": 99,
   "metadata": {},
   "outputs": [
    {
     "data": {
      "text/plain": [
       "0"
      ]
     },
     "execution_count": 99,
     "metadata": {},
     "output_type": "execute_result"
    }
   ],
   "source": [
    "db = myclient.StudentData\n",
    "pex=db.passex\n",
    "pex.count_documents({})"
   ]
  },
  {
   "cell_type": "code",
   "execution_count": 147,
   "metadata": {},
   "outputs": [],
   "source": [
    "pex.drop()"
   ]
  },
  {
   "cell_type": "code",
   "execution_count": 148,
   "metadata": {},
   "outputs": [],
   "source": [
    "x=db.exam_collection.find(\n",
    "    {'scores.score':{'$gte':40}\n",
    "     }\n",
    ")\n",
    "for i in x:\n",
    "  i=pex.insert_many([i])"
   ]
  },
  {
   "cell_type": "code",
   "execution_count": 149,
   "metadata": {},
   "outputs": [
    {
     "data": {
      "text/plain": [
       "119"
      ]
     },
     "execution_count": 149,
     "metadata": {},
     "output_type": "execute_result"
    }
   ],
   "source": [
    "pex.count_documents({})"
   ]
  },
  {
   "cell_type": "code",
   "execution_count": 56,
   "metadata": {},
   "outputs": [],
   "source": [
    "# 2) QUIZ List"
   ]
  },
  {
   "cell_type": "code",
   "execution_count": 150,
   "metadata": {},
   "outputs": [
    {
     "data": {
      "text/plain": [
       "0"
      ]
     },
     "execution_count": 150,
     "metadata": {},
     "output_type": "execute_result"
    }
   ],
   "source": [
    "db = myclient.StudentData\n",
    "fqz=db.failqz\n",
    "fqz.count_documents({})"
   ]
  },
  {
   "cell_type": "code",
   "execution_count": 151,
   "metadata": {},
   "outputs": [],
   "source": [
    "fqz.drop()"
   ]
  },
  {
   "cell_type": "code",
   "execution_count": 157,
   "metadata": {},
   "outputs": [],
   "source": [
    "x=db.quiz_collection.find(\n",
    "    {'scores.score':{'$lt':40}\n",
    "     }\n",
    ")\n",
    "for i in x:\n",
    "  i=fqz.insert_many([i])\n"
   ]
  },
  {
   "cell_type": "code",
   "execution_count": 158,
   "metadata": {},
   "outputs": [
    {
     "data": {
      "text/plain": [
       "0"
      ]
     },
     "execution_count": 158,
     "metadata": {},
     "output_type": "execute_result"
    }
   ],
   "source": [
    "db = myclient.StudentData\n",
    "pqz=db.pass_quiz\n",
    "pqz.count_documents({})"
   ]
  },
  {
   "cell_type": "code",
   "execution_count": 159,
   "metadata": {},
   "outputs": [],
   "source": [
    "pqz.drop()"
   ]
  },
  {
   "cell_type": "code",
   "execution_count": 160,
   "metadata": {},
   "outputs": [],
   "source": [
    "x=db.quiz_collection.find(\n",
    "    {'scores.score':{'$gte':40}}\n",
    ")\n",
    "for i in x:\n",
    "  i=pqz.insert_many([i])"
   ]
  },
  {
   "cell_type": "code",
   "execution_count": 161,
   "metadata": {},
   "outputs": [
    {
     "data": {
      "text/plain": [
       "0"
      ]
     },
     "execution_count": 161,
     "metadata": {},
     "output_type": "execute_result"
    }
   ],
   "source": [
    "pqz.count_documents({})"
   ]
  },
  {
   "cell_type": "code",
   "execution_count": 162,
   "metadata": {},
   "outputs": [],
   "source": [
    "# Home Work List"
   ]
  },
  {
   "cell_type": "code",
   "execution_count": 163,
   "metadata": {},
   "outputs": [
    {
     "data": {
      "text/plain": [
       "0"
      ]
     },
     "execution_count": 163,
     "metadata": {},
     "output_type": "execute_result"
    }
   ],
   "source": [
    "db = myclient.StudentData\n",
    "fhw=db.fail_homework\n",
    "fhw.count_documents({})"
   ]
  },
  {
   "cell_type": "code",
   "execution_count": 164,
   "metadata": {},
   "outputs": [],
   "source": [
    "fhw.drop()"
   ]
  },
  {
   "cell_type": "code",
   "execution_count": 165,
   "metadata": {},
   "outputs": [],
   "source": [
    "x=db.homework_collection.find(\n",
    "    {'scores.score':{'$lt':40}\n",
    "     }\n",
    ")\n",
    "for i in x:\n",
    "  i=fhw.insert_many([i])\n",
    "  #print(i)"
   ]
  },
  {
   "cell_type": "code",
   "execution_count": 166,
   "metadata": {},
   "outputs": [
    {
     "data": {
      "text/plain": [
       "0"
      ]
     },
     "execution_count": 166,
     "metadata": {},
     "output_type": "execute_result"
    }
   ],
   "source": [
    "fhw.count_documents({})"
   ]
  },
  {
   "cell_type": "code",
   "execution_count": 167,
   "metadata": {},
   "outputs": [
    {
     "data": {
      "text/plain": [
       "0"
      ]
     },
     "execution_count": 167,
     "metadata": {},
     "output_type": "execute_result"
    }
   ],
   "source": [
    "db = myclient.StudentData\n",
    "passhomework=db.pass_homework\n",
    "passhomework.count_documents({})"
   ]
  },
  {
   "cell_type": "code",
   "execution_count": 168,
   "metadata": {},
   "outputs": [],
   "source": [
    "passhomework.drop()"
   ]
  },
  {
   "cell_type": "code",
   "execution_count": 169,
   "metadata": {},
   "outputs": [
    {
     "data": {
      "text/plain": [
       "0"
      ]
     },
     "execution_count": 169,
     "metadata": {},
     "output_type": "execute_result"
    }
   ],
   "source": [
    "x=db.hw.find(\n",
    "    {'scores.score':{'$gte':40}\n",
    "     }\n",
    ")\n",
    "for i in x:\n",
    "  i=passhomework.insert_many([i])\n",
    "passhomework.count_documents({})"
   ]
  },
  {
   "cell_type": "code",
   "execution_count": null,
   "metadata": {},
   "outputs": [],
   "source": []
  },
  {
   "cell_type": "markdown",
   "metadata": {},
   "source": [
    "**4) Find the total and average of the exam, quiz and homework and store them in a separate collection.**"
   ]
  },
  {
   "cell_type": "code",
   "execution_count": 72,
   "metadata": {},
   "outputs": [],
   "source": [
    "# 1) EXAM"
   ]
  },
  {
   "cell_type": "code",
   "execution_count": 170,
   "metadata": {},
   "outputs": [
    {
     "data": {
      "text/plain": [
       "0"
      ]
     },
     "execution_count": 170,
     "metadata": {},
     "output_type": "execute_result"
    }
   ],
   "source": [
    "db = myclient.StudentData\n",
    "exam1=db.exam\n",
    "exam1.count_documents({})"
   ]
  },
  {
   "cell_type": "code",
   "execution_count": 171,
   "metadata": {},
   "outputs": [],
   "source": [
    "exam1.drop()"
   ]
  },
  {
   "cell_type": "code",
   "execution_count": 172,
   "metadata": {},
   "outputs": [],
   "source": [
    "x= db.ex.aggregate([{\"$match\": {\"scores.type\":\"exam\"}},{ \"$unwind\":\"$scores\"},{\"$match\": { \"scores.type\":\"exam\" } },{\"$group\": {\n",
    "       \"_id\": 'total_score_exam',\n",
    "       \"total_score\": { \"$sum\": \"$scores.score\" } }}])\n",
    "for i in x:\n",
    "  i=exam1.insert_many([i])\n",
    "  print(i)"
   ]
  },
  {
   "cell_type": "code",
   "execution_count": 175,
   "metadata": {},
   "outputs": [
    {
     "name": "stdout",
     "output_type": "stream",
     "text": [
      "<pymongo.results.InsertManyResult object at 0x0000028A1C50AAC0>\n"
     ]
    }
   ],
   "source": [
    "x=db.exam_collection.aggregate([{'$group' : {'_id' : \"avg_score_exam\", \"avg_score\" : {'$avg' : \"$scores.score\"}}}])\n",
    "for i in x:\n",
    "  i=exam1.insert_many([i])\n",
    "  print(i)"
   ]
  },
  {
   "cell_type": "code",
   "execution_count": 176,
   "metadata": {},
   "outputs": [
    {
     "data": {
      "text/plain": [
       "1"
      ]
     },
     "execution_count": 176,
     "metadata": {},
     "output_type": "execute_result"
    }
   ],
   "source": [
    "exam1.count_documents({})"
   ]
  },
  {
   "cell_type": "code",
   "execution_count": 177,
   "metadata": {},
   "outputs": [],
   "source": [
    "# 2) QUIZ"
   ]
  },
  {
   "cell_type": "code",
   "execution_count": 178,
   "metadata": {},
   "outputs": [
    {
     "data": {
      "text/plain": [
       "0"
      ]
     },
     "execution_count": 178,
     "metadata": {},
     "output_type": "execute_result"
    }
   ],
   "source": [
    "db = myclient.StudentData\n",
    "quiz1=db.quiz\n",
    "quiz1.count_documents({})"
   ]
  },
  {
   "cell_type": "code",
   "execution_count": 179,
   "metadata": {},
   "outputs": [],
   "source": [
    "quiz1.drop()"
   ]
  },
  {
   "cell_type": "code",
   "execution_count": 180,
   "metadata": {},
   "outputs": [],
   "source": [
    "x= db.quiz_collection.aggregate([{\"$match\": {\"scores.type\":\"quiz\"}},{ \"$unwind\":\"$scores\"},{\"$match\": { \"scores.type\":\"quiz\" } },{\"$group\": {\n",
    "       \"_id\": 'total_score_quiz',\n",
    "       \"total_score\": { \"$sum\": \"$scores.score\" } }}])\n",
    "for i in x:\n",
    "  i=quiz1.insert_many([i])\n",
    "  print(i)"
   ]
  },
  {
   "cell_type": "code",
   "execution_count": 181,
   "metadata": {},
   "outputs": [],
   "source": [
    "x=db.quiz_collection.aggregate([{'$group' : {'_id' : \"avg_score_quiz\", \"avg_score\" : {'$avg' : \"$scores.score\"}}}])\n",
    "for i in x:\n",
    "  i=quiz1.insert_many([i])\n",
    "  print(i)"
   ]
  },
  {
   "cell_type": "code",
   "execution_count": 182,
   "metadata": {},
   "outputs": [
    {
     "data": {
      "text/plain": [
       "0"
      ]
     },
     "execution_count": 182,
     "metadata": {},
     "output_type": "execute_result"
    }
   ],
   "source": [
    "quiz1.count_documents({})"
   ]
  },
  {
   "cell_type": "code",
   "execution_count": 183,
   "metadata": {},
   "outputs": [],
   "source": [
    "# 3) HOMEWORK"
   ]
  },
  {
   "cell_type": "code",
   "execution_count": 212,
   "metadata": {},
   "outputs": [
    {
     "data": {
      "text/plain": [
       "0"
      ]
     },
     "execution_count": 212,
     "metadata": {},
     "output_type": "execute_result"
    }
   ],
   "source": [
    "db = myclient.StudentData\n",
    "homework1=db.homework\n",
    "homework1.count_documents({})"
   ]
  },
  {
   "cell_type": "code",
   "execution_count": 213,
   "metadata": {},
   "outputs": [],
   "source": [
    "homework1.drop()"
   ]
  },
  {
   "cell_type": "code",
   "execution_count": 214,
   "metadata": {},
   "outputs": [],
   "source": [
    "x= db.homework_collections.aggregate([{\"$match\": {\"scores.type\":\"homework\"}},{ \"$unwind\":\"$scores\"},{\"$match\": { \"scores.type\":\"homework\" } },{\"$group\": {\n",
    "       \"_id\": 'total_score_homework',\n",
    "       \"total_score\": { \"$sum\": \"$scores.score\" } }}])\n",
    "for i in x:\n",
    "  i=homework1.insert_many([i])\n",
    "  print(i)"
   ]
  },
  {
   "cell_type": "code",
   "execution_count": 215,
   "metadata": {},
   "outputs": [],
   "source": [
    "x=db.homework_collections.aggregate([{'$group' : {'_id' : \"avg_score_homework\", \"avg_score\" : {'$avg' : \"$scores.score\"}}}])\n",
    "for i in x:\n",
    "  i=homework1.insert_many([i])\n",
    "  print(i)"
   ]
  },
  {
   "cell_type": "code",
   "execution_count": 216,
   "metadata": {},
   "outputs": [
    {
     "data": {
      "text/plain": [
       "0"
      ]
     },
     "execution_count": 216,
     "metadata": {},
     "output_type": "execute_result"
    }
   ],
   "source": [
    "homework1.count_documents({})"
   ]
  },
  {
   "cell_type": "code",
   "execution_count": null,
   "metadata": {},
   "outputs": [],
   "source": []
  },
  {
   "cell_type": "code",
   "execution_count": null,
   "metadata": {},
   "outputs": [],
   "source": []
  },
  {
   "cell_type": "markdown",
   "metadata": {},
   "source": [
    "**5) Create a new collection which consists of students who scored below average and above 40% in all the categories.**"
   ]
  },
  {
   "cell_type": "code",
   "execution_count": null,
   "metadata": {},
   "outputs": [],
   "source": [
    "# 1) EXAM"
   ]
  },
  {
   "cell_type": "code",
   "execution_count": 217,
   "metadata": {},
   "outputs": [
    {
     "data": {
      "text/plain": [
       "23"
      ]
     },
     "execution_count": 217,
     "metadata": {},
     "output_type": "execute_result"
    }
   ],
   "source": [
    "db = myclient.StudentData\n",
    "gtltexam=db.gt40_ltavg_exam\n",
    "gtltexam.count_documents({})"
   ]
  },
  {
   "cell_type": "code",
   "execution_count": 218,
   "metadata": {},
   "outputs": [],
   "source": [
    "gtltexam.drop()"
   ]
  },
  {
   "cell_type": "code",
   "execution_count": 219,
   "metadata": {},
   "outputs": [],
   "source": [
    "x=db.exam_collection.find({'scores.score':{'$gte':40,'$lt':48.67367075950175}})\n",
    "for i in x:\n",
    "  i=gtltexam.insert_many([i])"
   ]
  },
  {
   "cell_type": "code",
   "execution_count": 220,
   "metadata": {},
   "outputs": [
    {
     "data": {
      "text/plain": [
       "23"
      ]
     },
     "execution_count": 220,
     "metadata": {},
     "output_type": "execute_result"
    }
   ],
   "source": [
    "gtltexam.count_documents({})"
   ]
  },
  {
   "cell_type": "code",
   "execution_count": 221,
   "metadata": {},
   "outputs": [],
   "source": [
    "# 2) QUIZ"
   ]
  },
  {
   "cell_type": "code",
   "execution_count": 223,
   "metadata": {},
   "outputs": [
    {
     "data": {
      "text/plain": [
       "0"
      ]
     },
     "execution_count": 223,
     "metadata": {},
     "output_type": "execute_result"
    }
   ],
   "source": [
    "db = myclient.StudentData\n",
    "gtltquiz=db.gt40_ltavg_quiz\n",
    "gtltquiz.count_documents({})"
   ]
  },
  {
   "cell_type": "code",
   "execution_count": 224,
   "metadata": {},
   "outputs": [],
   "source": [
    "gtltquiz.drop()"
   ]
  },
  {
   "cell_type": "code",
   "execution_count": 227,
   "metadata": {},
   "outputs": [],
   "source": [
    "x=db.quiz_collections.find({'scores.score':{'$gte':40,'$lt':48.67367075950175}})\n",
    "for i in x:\n",
    "  i=gtltquiz.insert_many([i])\n",
    "  #print(i)"
   ]
  },
  {
   "cell_type": "code",
   "execution_count": 228,
   "metadata": {},
   "outputs": [
    {
     "data": {
      "text/plain": [
       "0"
      ]
     },
     "execution_count": 228,
     "metadata": {},
     "output_type": "execute_result"
    }
   ],
   "source": [
    "gtltquiz.count_documents({})"
   ]
  },
  {
   "cell_type": "code",
   "execution_count": null,
   "metadata": {},
   "outputs": [],
   "source": [
    "# 3) HOME WORK"
   ]
  },
  {
   "cell_type": "code",
   "execution_count": 229,
   "metadata": {},
   "outputs": [
    {
     "data": {
      "text/plain": [
       "0"
      ]
     },
     "execution_count": 229,
     "metadata": {},
     "output_type": "execute_result"
    }
   ],
   "source": [
    "db = myclient.StudentData\n",
    "gtlthomework=db.gt40_ltavg_homework\n",
    "gtlthomework.count_documents({})"
   ]
  },
  {
   "cell_type": "code",
   "execution_count": 230,
   "metadata": {},
   "outputs": [],
   "source": [
    "gtlthomework.drop()"
   ]
  },
  {
   "cell_type": "code",
   "execution_count": 231,
   "metadata": {},
   "outputs": [],
   "source": [
    "x=db.homework_collections.find({'scores.score':{'$gte':40,'$lt':48.67367075950175}})\n",
    "for i in x:\n",
    "  i=gtlthomework.insert_many([i])"
   ]
  },
  {
   "cell_type": "code",
   "execution_count": 232,
   "metadata": {},
   "outputs": [
    {
     "data": {
      "text/plain": [
       "0"
      ]
     },
     "execution_count": 232,
     "metadata": {},
     "output_type": "execute_result"
    }
   ],
   "source": [
    "gtlthomework.count_documents({})"
   ]
  },
  {
   "cell_type": "code",
   "execution_count": null,
   "metadata": {},
   "outputs": [],
   "source": []
  },
  {
   "cell_type": "markdown",
   "metadata": {},
   "source": [
    "\n",
    "**6) Create a new collection which consists of students who scored below the fail mark in all the categories.**\n"
   ]
  },
  {
   "cell_type": "code",
   "execution_count": 233,
   "metadata": {},
   "outputs": [],
   "source": [
    "# 1) EXAM"
   ]
  },
  {
   "cell_type": "code",
   "execution_count": 236,
   "metadata": {},
   "outputs": [
    {
     "data": {
      "text/plain": [
       "0"
      ]
     },
     "execution_count": 236,
     "metadata": {},
     "output_type": "execute_result"
    }
   ],
   "source": [
    "db = myclient.StudentData\n",
    "ltfailexam=db.lt_fail_exam\n",
    "ltfailexam.count_documents({})"
   ]
  },
  {
   "cell_type": "code",
   "execution_count": 237,
   "metadata": {},
   "outputs": [],
   "source": [
    "ltfailexam.drop()"
   ]
  },
  {
   "cell_type": "code",
   "execution_count": 238,
   "metadata": {},
   "outputs": [],
   "source": [
    "x=db.exam_collection.find({'scores.score':{'$lt':1}})\n",
    "for i in x:\n",
    "  i=ltfailexam.insert_many([i])\n",
    "  #print(i)"
   ]
  },
  {
   "cell_type": "code",
   "execution_count": 239,
   "metadata": {},
   "outputs": [
    {
     "data": {
      "text/plain": [
       "3"
      ]
     },
     "execution_count": 239,
     "metadata": {},
     "output_type": "execute_result"
    }
   ],
   "source": [
    "ltfailexam.count_documents({})"
   ]
  },
  {
   "cell_type": "code",
   "execution_count": 240,
   "metadata": {},
   "outputs": [],
   "source": [
    "# 2) QUIZ"
   ]
  },
  {
   "cell_type": "code",
   "execution_count": 242,
   "metadata": {},
   "outputs": [
    {
     "data": {
      "text/plain": [
       "0"
      ]
     },
     "execution_count": 242,
     "metadata": {},
     "output_type": "execute_result"
    }
   ],
   "source": [
    "db = myclient.StudentData\n",
    "ltfailquiz=db.lt_fail_quiz\n",
    "ltfailquiz.count_documents({})"
   ]
  },
  {
   "cell_type": "code",
   "execution_count": 243,
   "metadata": {},
   "outputs": [],
   "source": [
    "ltfailquiz.drop()"
   ]
  },
  {
   "cell_type": "code",
   "execution_count": 244,
   "metadata": {},
   "outputs": [],
   "source": [
    "x=db.quiz_collection.find({'scores.score':{'$lt':1}})\n",
    "for i in x:\n",
    "  i=ltfailquiz.insert_many([i])"
   ]
  },
  {
   "cell_type": "code",
   "execution_count": 245,
   "metadata": {},
   "outputs": [
    {
     "data": {
      "text/plain": [
       "0"
      ]
     },
     "execution_count": 245,
     "metadata": {},
     "output_type": "execute_result"
    }
   ],
   "source": [
    "ltfailquiz.count_documents({})"
   ]
  },
  {
   "cell_type": "code",
   "execution_count": 246,
   "metadata": {},
   "outputs": [],
   "source": [
    "# 3) HOME WORK"
   ]
  },
  {
   "cell_type": "code",
   "execution_count": 247,
   "metadata": {},
   "outputs": [
    {
     "data": {
      "text/plain": [
       "0"
      ]
     },
     "execution_count": 247,
     "metadata": {},
     "output_type": "execute_result"
    }
   ],
   "source": [
    "db = myclient.StudentData\n",
    "ltfailhomework=db.lt_fail_homework\n",
    "ltfailhomework.count_documents({})"
   ]
  },
  {
   "cell_type": "code",
   "execution_count": 248,
   "metadata": {},
   "outputs": [],
   "source": [
    "ltfailhomework.drop()"
   ]
  },
  {
   "cell_type": "code",
   "execution_count": 249,
   "metadata": {},
   "outputs": [],
   "source": [
    "x=db.homework_collections.find({'scores.score':{'$lt':1}})\n",
    "for i in x:\n",
    "  i=ltfailhomework.insert_many([i])\n",
    "  #print(i)"
   ]
  },
  {
   "cell_type": "code",
   "execution_count": 250,
   "metadata": {},
   "outputs": [
    {
     "data": {
      "text/plain": [
       "0"
      ]
     },
     "execution_count": 250,
     "metadata": {},
     "output_type": "execute_result"
    }
   ],
   "source": [
    "ltfailhomework.count_documents({})"
   ]
  },
  {
   "cell_type": "code",
   "execution_count": null,
   "metadata": {},
   "outputs": [],
   "source": []
  },
  {
   "cell_type": "code",
   "execution_count": null,
   "metadata": {},
   "outputs": [],
   "source": []
  },
  {
   "cell_type": "markdown",
   "metadata": {},
   "source": [
    "\n",
    "**7) Create a new collection which consists of students who scored above pass mark in all the categories.**"
   ]
  },
  {
   "cell_type": "code",
   "execution_count": 251,
   "metadata": {},
   "outputs": [],
   "source": [
    "# 1) EXAM"
   ]
  },
  {
   "cell_type": "code",
   "execution_count": 252,
   "metadata": {},
   "outputs": [
    {
     "data": {
      "text/plain": [
       "0"
      ]
     },
     "execution_count": 252,
     "metadata": {},
     "output_type": "execute_result"
    }
   ],
   "source": [
    "db = myclient.StudentData\n",
    "gtpassexam=db.gt_pass_exam\n",
    "gtpassexam.count_documents({})"
   ]
  },
  {
   "cell_type": "code",
   "execution_count": 253,
   "metadata": {},
   "outputs": [],
   "source": [
    "gtpassexam.drop()"
   ]
  },
  {
   "cell_type": "code",
   "execution_count": 255,
   "metadata": {},
   "outputs": [],
   "source": [
    "x=db.exam_collection.find({'scores.score':{'$gte':40}})\n",
    "for i in x:\n",
    "  i=gtpassexam.insert_many([i])"
   ]
  },
  {
   "cell_type": "code",
   "execution_count": 256,
   "metadata": {},
   "outputs": [
    {
     "data": {
      "text/plain": [
       "119"
      ]
     },
     "execution_count": 256,
     "metadata": {},
     "output_type": "execute_result"
    }
   ],
   "source": [
    "gtpassexam.count_documents({})"
   ]
  },
  {
   "cell_type": "code",
   "execution_count": 257,
   "metadata": {},
   "outputs": [],
   "source": [
    "# 2) QUIZ"
   ]
  },
  {
   "cell_type": "code",
   "execution_count": 259,
   "metadata": {},
   "outputs": [
    {
     "data": {
      "text/plain": [
       "0"
      ]
     },
     "execution_count": 259,
     "metadata": {},
     "output_type": "execute_result"
    }
   ],
   "source": [
    "db = myclient.StudentData\n",
    "gtpassquiz=db.gt_pass_quiz\n",
    "gtpassquiz.count_documents({})"
   ]
  },
  {
   "cell_type": "code",
   "execution_count": 260,
   "metadata": {},
   "outputs": [],
   "source": [
    "gtpassquiz.drop()"
   ]
  },
  {
   "cell_type": "code",
   "execution_count": 261,
   "metadata": {},
   "outputs": [],
   "source": [
    "x=db.quiz_collection.find({'scores.score':{'$gte':40}})\n",
    "for i in x:\n",
    "  i=gtpassquiz.insert_many([i])"
   ]
  },
  {
   "cell_type": "code",
   "execution_count": 262,
   "metadata": {},
   "outputs": [
    {
     "data": {
      "text/plain": [
       "0"
      ]
     },
     "execution_count": 262,
     "metadata": {},
     "output_type": "execute_result"
    }
   ],
   "source": [
    "gtpassquiz.count_documents({})"
   ]
  },
  {
   "cell_type": "code",
   "execution_count": 263,
   "metadata": {},
   "outputs": [],
   "source": [
    "# 3) HOME WORK"
   ]
  },
  {
   "cell_type": "code",
   "execution_count": 265,
   "metadata": {},
   "outputs": [
    {
     "data": {
      "text/plain": [
       "0"
      ]
     },
     "execution_count": 265,
     "metadata": {},
     "output_type": "execute_result"
    }
   ],
   "source": [
    "db = myclient.StudentData\n",
    "gtpasshomework=db.gt_pass_homework\n",
    "gtpasshomework.count_documents({})"
   ]
  },
  {
   "cell_type": "code",
   "execution_count": 266,
   "metadata": {},
   "outputs": [],
   "source": [
    "gtpasshomework.drop()"
   ]
  },
  {
   "cell_type": "code",
   "execution_count": 271,
   "metadata": {},
   "outputs": [],
   "source": [
    "x=db.homework_collections.find({'scores.score':{'$gte':40}})\n",
    "for i in x:\n",
    "  i=gtpasshomework.insert_many([i])"
   ]
  },
  {
   "cell_type": "code",
   "execution_count": 272,
   "metadata": {},
   "outputs": [
    {
     "data": {
      "text/plain": [
       "0"
      ]
     },
     "execution_count": 272,
     "metadata": {},
     "output_type": "execute_result"
    }
   ],
   "source": [
    "gtpasshomework.count_documents({})"
   ]
  },
  {
   "cell_type": "code",
   "execution_count": null,
   "metadata": {},
   "outputs": [],
   "source": []
  }
 ],
 "metadata": {
  "kernelspec": {
   "display_name": "Python 3",
   "language": "python",
   "name": "python3"
  },
  "language_info": {
   "codemirror_mode": {
    "name": "ipython",
    "version": 3
   },
   "file_extension": ".py",
   "mimetype": "text/x-python",
   "name": "python",
   "nbconvert_exporter": "python",
   "pygments_lexer": "ipython3",
   "version": "3.8.5"
  }
 },
 "nbformat": 4,
 "nbformat_minor": 4
}
