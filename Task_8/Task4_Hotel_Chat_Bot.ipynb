{
  "nbformat": 4,
  "nbformat_minor": 0,
  "metadata": {
    "kernelspec": {
      "display_name": "Python 3",
      "language": "python",
      "name": "python3"
    },
    "language_info": {
      "codemirror_mode": {
        "name": "ipython",
        "version": 3
      },
      "file_extension": ".py",
      "mimetype": "text/x-python",
      "name": "python",
      "nbconvert_exporter": "python",
      "pygments_lexer": "ipython3",
      "version": "3.7.6"
    },
    "colab": {
      "provenance": []
    },
    "accelerator": "GPU"
  },
  "cells": [
    {
      "cell_type": "code",
      "metadata": {
        "id": "upQX3LDnJM8w",
        "outputId": "5b7815de-49b3-46cb-9b19-678ac34291a0",
        "colab": {
          "base_uri": "https://localhost:8080/"
        }
      },
      "source": [
        "# Import packages\n",
        "import numpy as np\n",
        "import torch\n",
        "import torch.nn as nn\n",
        "from torch.utils.data import Dataset, DataLoader\n",
        "import tensorflow as tf\n",
        "import nltk\n",
        "nltk.download('punkt')\n",
        "from nltk.stem.porter import PorterStemmer\n",
        "\n",
        "from datetime import datetime\n",
        "import random\n",
        "import string\n",
        "import pandas as pd"
      ],
      "execution_count": 2,
      "outputs": [
        {
          "output_type": "stream",
          "name": "stderr",
          "text": [
            "[nltk_data] Downloading package punkt to /root/nltk_data...\n",
            "[nltk_data]   Package punkt is already up-to-date!\n"
          ]
        }
      ]
    },
    {
      "cell_type": "code",
      "metadata": {
        "id": "7f7n7oLGclPr",
        "outputId": "899a3bb9-4273-492b-eedc-26e3489845e5",
        "colab": {
          "base_uri": "https://localhost:8080/"
        }
      },
      "source": [
        "# Get the GPU device name\n",
        "device_name = tf.test.gpu_device_name()\n",
        "\n",
        "# The device name should look like the following:\n",
        "if device_name == '/device:GPU:0':\n",
        "    print('Found GPU at: {}'.format(device_name))\n",
        "else:\n",
        "    raise SystemError('GPU not available')"
      ],
      "execution_count": 3,
      "outputs": [
        {
          "output_type": "stream",
          "name": "stdout",
          "text": [
            "Found GPU at: /device:GPU:0\n"
          ]
        }
      ]
    },
    {
      "cell_type": "code",
      "metadata": {
        "id": "pmOiDav2cl_U",
        "outputId": "188f27a8-2db2-4e1f-ee3e-1bd90b8eaf0f",
        "colab": {
          "base_uri": "https://localhost:8080/"
        }
      },
      "source": [
        "# If there's a GPU available...\n",
        "if torch.cuda.is_available():    \n",
        "\n",
        "    # Tell PyTorch to use the GPU   \n",
        "    device = torch.device(\"cuda\")\n",
        "\n",
        "    print('There are {} GPU(s) available.'.format(torch.cuda.device_count()))\n",
        "\n",
        "    print('GPU name:', torch.cuda.get_device_name(0))\n",
        "\n",
        "# If not, use the CPU\n",
        "else:\n",
        "    print('GPU not found, using the CPU instead.')\n",
        "    device = torch.device(\"cpu\")"
      ],
      "execution_count": 4,
      "outputs": [
        {
          "output_type": "stream",
          "name": "stdout",
          "text": [
            "There are 1 GPU(s) available.\n",
            "GPU name: Tesla T4\n"
          ]
        }
      ]
    },
    {
      "cell_type": "markdown",
      "metadata": {
        "id": "r8cnKNk2vKW6"
      },
      "source": [
        "### 2| CREATE TRAINING DATA"
      ]
    },
    {
      "cell_type": "code",
      "metadata": {
        "id": "-kimxKGeJM85"
      },
      "source": [
        "# Create a dictionary with your training data\n",
        "intents = {\n",
        "    'intents': [\n",
        "        {\n",
        "            'tag': 'greeting',\n",
        "            'patterns': [\n",
        "                'Hi',\n",
        "                'Hey',\n",
        "                'Hello',\n",
        "                'How are you',\n",
        "                'Is anyone there?',\n",
        "                'Good day'\n",
        "            ],\n",
        "            'responses': [\n",
        "                'Hey',\n",
        "                'Hello, thanks for visiting',\n",
        "                'Hi there, what can I do for you?',\n",
        "                'Hi there, how can I help?'\n",
        "            ]\n",
        "        },\n",
        "        {\n",
        "            'tag': 'goodbye',\n",
        "            'patterns': [\n",
        "                'Bye',\n",
        "                'See you later',\n",
        "                'Goodbye'\n",
        "            ],\n",
        "            'responses': [\n",
        "                'See you later, thanks for visiting',\n",
        "                'Have a nice day',\n",
        "                'Bye! Come back again soon'\n",
        "            ]\n",
        "        },\n",
        "        {\n",
        "            'tag': 'thanks',\n",
        "            'patterns': [\n",
        "                'Thanks',\n",
        "                'Thank you',\n",
        "                \"That's helpful\",\n",
        "                'Thanks a lot!'\n",
        "            ],\n",
        "            'responses': [\n",
        "                'Happy to help!',\n",
        "                'Anytime!',\n",
        "                \"My pleasure\"\n",
        "            ]\n",
        "        },\n",
        "        {\n",
        "            'tag': 'booking',\n",
        "            'patterns': [\n",
        "                'I would like to make a reservation',\n",
        "                'Can I book a room?',\n",
        "                \"I want to make a booking\"\n",
        "            ],\n",
        "            'responses': [\n",
        "                'Sure, I only need to know a few details',\n",
        "                \"Lovely. Let's begin with the reservation\"\n",
        "            ]\n",
        "        },\n",
        "        {\n",
        "            'tag': 'cancellation',\n",
        "            'patterns': [\n",
        "                'I would like to cancel my booking',\n",
        "                'Can I cancel a room?',\n",
        "                \"I want to make a cancellation\",\n",
        "                'Cancel a booking'\n",
        "            ],\n",
        "            'responses': [\n",
        "                'Sure, which is your reference number?',\n",
        "                \"I only need to know the reference number of your booking\"\n",
        "            ]\n",
        "        },\n",
        "        {\n",
        "            'tag': 'payments',\n",
        "            'patterns': [\n",
        "                'When do I have to pay?',\n",
        "                'Can I pay by card?',\n",
        "                \"Do you accept cash?\",\n",
        "                'When is the payment?'\n",
        "            ],\n",
        "            'responses': [\n",
        "                'The payment is on arrival. We accept cash and card',\n",
        "                'You can pay on arrival by cash or card'\n",
        "            ]\n",
        "        },\n",
        "        {\n",
        "            'tag': 'location',\n",
        "            'patterns': [\n",
        "                'Where is the hotel located?',\n",
        "                'Can you give me the address?',\n",
        "                \"I want to know the exact location\"\n",
        "            ],\n",
        "            'responses': [\n",
        "                'The Hollywood Hotel is located at Vine St, Los Angeles, CA 99999',\n",
        "                'You will find us at Vine St, Los Angeles, CA 99999'\n",
        "            ]\n",
        "        },\n",
        "        {\n",
        "            'tag': 'contacts',\n",
        "            'patterns': [\n",
        "                'I would like to contact the marketing department',\n",
        "                'I want to speak with someone from sales',\n",
        "                \"Can I have the email of finance?\"\n",
        "            ],\n",
        "            'responses': [\n",
        "                'Sure. To contact with them, send an email to:',\n",
        "                'Of course. The email to contact with the department is:'\n",
        "            ]\n",
        "        }\n",
        "    ]\n",
        "}"
      ],
      "execution_count": 5,
      "outputs": []
    },
    {
      "cell_type": "markdown",
      "metadata": {
        "id": "-bpAxTehJM9A"
      },
      "source": [
        "### 3| DATA PRE-PROCESSING"
      ]
    },
    {
      "cell_type": "code",
      "metadata": {
        "id": "-8AxLSoYJM9O"
      },
      "source": [
        "stemmer = PorterStemmer()\n",
        "def tokenize(sentence):\n",
        "    '''\n",
        "    This function takes a sentence as an input,\n",
        "    and returns a list of its tokens\n",
        "    '''\n",
        "    return nltk.word_tokenize(sentence)\n",
        "\n",
        "def bag_of_words(tokenized_sentence, all_words):\n",
        "    '''\n",
        "    Function to represent a sentence into a vector of float numbers\n",
        "    input: list of tokens in a sent and a list of all the words in the text\n",
        "    output: vector equal to the vocab length for each sentence\n",
        "    '''\n",
        "    tokenized_sentence = [stemmer.stem(w.lower()) for w in tokenized_sentence]\n",
        "    bag = np.zeros(len(all_words), dtype=np.float32)\n",
        "    \n",
        "    for idx, w in enumerate(all_words):\n",
        "        if w in tokenized_sentence:\n",
        "            bag[idx] = 1.0\n",
        "    \n",
        "    return bag"
      ],
      "execution_count": 6,
      "outputs": []
    },
    {
      "cell_type": "markdown",
      "metadata": {
        "id": "Lc4xgah3JM9S"
      },
      "source": [
        "### 4| BUILDING THE MODEL"
      ]
    },
    {
      "cell_type": "code",
      "metadata": {
        "id": "dlR5cVebJM9S"
      },
      "source": [
        "all_words = []\n",
        "tags = []\n",
        "xy = []\n",
        "\n",
        "# Save all the keywords in different variables\n",
        "for intent in intents['intents']:\n",
        "    tag= intent['tag']\n",
        "    tags.append(tag)\n",
        "    for pattern in intent['patterns']:\n",
        "        w = tokenize(pattern)\n",
        "        all_words.extend(w)\n",
        "        xy.append((w, tag))\n",
        "\n",
        "# Create the vocabulary\n",
        "ignore_words = ['?', '!', '.', ',']\n",
        "all_words = [stemmer.stem(w.lower()) for w in all_words if w not in ignore_words]\n",
        "all_words = sorted(set(all_words))\n",
        "tags = sorted(set(tags))"
      ],
      "execution_count": 7,
      "outputs": []
    },
    {
      "cell_type": "code",
      "metadata": {
        "id": "sfEbE8h3JM9W"
      },
      "source": [
        "# Set the final training data\n",
        "X_train = []\n",
        "y_train = []\n",
        "for (pattern_sentence, tag) in xy:\n",
        "    bag = bag_of_words(pattern_sentence, all_words)\n",
        "    X_train.append(bag)\n",
        "    label = tags.index(tag)\n",
        "    y_train.append(label)\n",
        "\n",
        "X_train = np.array(X_train)\n",
        "y_train = np.array(y_train)"
      ],
      "execution_count": 8,
      "outputs": []
    },
    {
      "cell_type": "code",
      "metadata": {
        "id": "CCaszLUFJM9Z"
      },
      "source": [
        "class ChatDataset(Dataset):\n",
        "    def __init__(self):\n",
        "        self.n_samples = len(X_train)\n",
        "        self.x_data = X_train\n",
        "        self.y_data = y_train\n",
        "        \n",
        "    def __getitem__(self, index):\n",
        "        return self.x_data[index], self.y_data[index]\n",
        "    \n",
        "    def __len__(self):\n",
        "        return self.n_samples\n"
      ],
      "execution_count": 9,
      "outputs": []
    },
    {
      "cell_type": "code",
      "metadata": {
        "id": "yWgXG9cUJM9b"
      },
      "source": [
        "class NeuralNet(nn.Module):\n",
        "    def __init__(self, input_size, hidden_size, num_classes):\n",
        "        super(NeuralNet, self).__init__()\n",
        "        self.l1 = nn.Linear(input_size, hidden_size)\n",
        "        self.l2 = nn.Linear(hidden_size, hidden_size)\n",
        "        self.l3 = nn.Linear(hidden_size, num_classes)\n",
        "        self.relu = nn.ReLU()\n",
        "        \n",
        "    def forward(self, x):\n",
        "        out = self.l1(x)\n",
        "        out = self.relu(out)\n",
        "        out = self.l2(out)\n",
        "        out = self.relu(out)\n",
        "        out = self.l3(out)\n",
        "        # no activation and no softmax\n",
        "        return out"
      ],
      "execution_count": 10,
      "outputs": []
    },
    {
      "cell_type": "code",
      "metadata": {
        "id": "3a6R-ah4JM9d"
      },
      "source": [
        "# Hyperparameters\n",
        "batch_size=8\n",
        "hidden_size=8\n",
        "output_size=len(tags)\n",
        "input_size = len(X_train[0])\n",
        "learning_rate = 0.001\n",
        "num_epochs = 1000\n",
        "\n",
        "dataset = ChatDataset()\n",
        "train_loader = DataLoader(dataset=dataset, batch_size=batch_size, shuffle=True, num_workers=2)\n",
        "\n",
        "model = NeuralNet(input_size, hidden_size, output_size).to(device)"
      ],
      "execution_count": 11,
      "outputs": []
    },
    {
      "cell_type": "code",
      "metadata": {
        "id": "dmww8Te6JM9f"
      },
      "source": [
        "# Loss and optimizer\n",
        "criterion = nn.CrossEntropyLoss()\n",
        "optimizer = torch.optim.Adam(model.parameters(), lr=learning_rate)\n"
      ],
      "execution_count": 12,
      "outputs": []
    },
    {
      "cell_type": "code",
      "metadata": {
        "id": "3pwLVRwKJM9i",
        "outputId": "3f4d2bb5-ad29-4cc2-e1a0-8c2b637c6cc1",
        "colab": {
          "base_uri": "https://localhost:8080/"
        }
      },
      "source": [
        "for epoch in range(num_epochs):\n",
        "  for (words, labels) in train_loader:\n",
        "    words = words.to(device)\n",
        "    labels = labels.to(device)\n",
        "\n",
        "    # Forward\n",
        "    outputs = model(words)\n",
        "    loss = criterion(outputs,labels)\n",
        "\n",
        "    # Backward and optimizer\n",
        "    optimizer.zero_grad()\n",
        "    loss.backward()\n",
        "    optimizer.step()\n",
        "    \n",
        "  if (epoch + 1) % 100 == 0:\n",
        "    print(f'epoch {epoch + 1}/{num_epochs}, loss = {loss.item():.4f}')\n",
        "\n",
        "print(f'final loss, loss = {loss.item():.4f}')\n",
        "    "
      ],
      "execution_count": 13,
      "outputs": [
        {
          "output_type": "stream",
          "name": "stdout",
          "text": [
            "epoch 100/1000, loss = 1.6386\n",
            "epoch 200/1000, loss = 0.1146\n",
            "epoch 300/1000, loss = 0.0322\n",
            "epoch 400/1000, loss = 0.0095\n",
            "epoch 500/1000, loss = 0.0048\n",
            "epoch 600/1000, loss = 0.0034\n",
            "epoch 700/1000, loss = 0.0039\n",
            "epoch 800/1000, loss = 0.0014\n",
            "epoch 900/1000, loss = 0.0008\n",
            "epoch 1000/1000, loss = 0.0004\n",
            "final loss, loss = 0.0004\n"
          ]
        }
      ]
    },
    {
      "cell_type": "markdown",
      "metadata": {
        "id": "msqxyRTYNdm-"
      },
      "source": [
        "### 5| IMPLEMENT CHATBOT"
      ]
    },
    {
      "cell_type": "code",
      "metadata": {
        "id": "orUD3TZhZIMt"
      },
      "source": [
        "all_bookings = pd.DataFrame()\n",
        "\n",
        "class Customer:\n",
        "    \n",
        "    rate = 99.00\n",
        "    \n",
        "    def __init__(self, name, dates, room, service):\n",
        "        self.name = name\n",
        "        self.dates = (datetime.strptime(dates[0], '%d/%m/%Y').date(), datetime.strptime(dates[1], '%d/%m/%Y').date())\n",
        "        self.room = room\n",
        "        self.service = service\n",
        "        \n",
        "    def ID(self):\n",
        "        letters = string.ascii_uppercase\n",
        "        digits = string.digits\n",
        "        a = random.sample(letters, 3) + random.sample(digits, 4)\n",
        "        self.id = ''.join(a)\n",
        "        \n",
        "    def nights(self):\n",
        "        nights = (self.dates[1] - self.dates[0]).days\n",
        "        return nights\n",
        "    \n",
        "    def final_price(self):\n",
        "        price = self.rate * float(self.nights())\n",
        "        return price\n",
        "    \n",
        "    def __str__(self):\n",
        "        return f'''\n",
        "        > Mr./Miss. {self.name[1]}, \n",
        "        >\n",
        "        > We are delighted to confirm your booking with us for the {self.dates[0]} till the {self.dates[1]}. \n",
        "        > A {self.room} with {self.service} for the final rate of £{self.rate} per night. \n",
        "        > Total price: £{self.final_price()}\n",
        "        > Your reference number is {self.id}. \n",
        "        > Keep this number in case you want to modify or cancel your booking in the future.\n",
        "        >\n",
        "        > Best,\n",
        "        > The Hollywood Hotel\n",
        "        '''      "
      ],
      "execution_count": 14,
      "outputs": []
    },
    {
      "cell_type": "code",
      "metadata": {
        "id": "gXgTJLZEaqTO"
      },
      "source": [
        "departments = {\n",
        "    'marketing': ['marketing', 'seo', 'community manager'],\n",
        "    'sales': ['reservations', 'sales', 'booking'],\n",
        "    'accountancy': ['accountancy', 'finance', 'purchase']\n",
        "}"
      ],
      "execution_count": 15,
      "outputs": []
    },
    {
      "cell_type": "code",
      "metadata": {
        "id": "6gSQSiVL_Ke9"
      },
      "source": [
        "def contact_dept(user_sent, departments):\n",
        "  '''\n",
        "  Takes the sentence and all the departments as input \n",
        "  and returns the department email that the user wants to be contact with.\n",
        "  '''\n",
        "  email = None\n",
        "  for k,v in departments.items():\n",
        "    for d in user_sent:\n",
        "      if d in v:\n",
        "        email = f'{k}@hollywoodhotel.com'\n",
        "  return email"
      ],
      "execution_count": 16,
      "outputs": []
    },
    {
      "cell_type": "code",
      "metadata": {
        "id": "oY3FaT2BNM8O",
        "outputId": "5fa1e5fb-7c9d-4dce-ed7f-ef567f645e35",
        "colab": {
          "base_uri": "https://localhost:8080/",
          "height": 997
        }
      },
      "source": [
        "model_dic = model.state_dict()\n",
        "model = NeuralNet(input_size, hidden_size, output_size)\n",
        "model.load_state_dict(model_dic)\n",
        "model.eval()\n",
        "\n",
        "bot_name = 'Bot '\n",
        "print(\"Let's chat: type 'quit' to exit\")\n",
        "\n",
        "while True:\n",
        "  sentence = input('You: ')\n",
        "  if sentence == 'quit':\n",
        "    break\n",
        "\n",
        "  sentence = tokenize(sentence)\n",
        "  X = bag_of_words(sentence, all_words)\n",
        "  X = X.reshape(1, X.shape[0])\n",
        "  X = torch.from_numpy(X)\n",
        "\n",
        "  output = model(X)\n",
        "  _,predicted = torch.max(output, dim=1)\n",
        "  tag = tags[predicted.item()]\n",
        "\n",
        "  probs = torch.softmax(output, dim=1)\n",
        "  prob = probs[0][predicted.item()]\n",
        "\n",
        "  if prob.item() > 0.75:\n",
        "    for intent in intents['intents']:\n",
        "      if tag == intent['tag']:\n",
        "\n",
        "        if tag == 'booking':\n",
        "            print(f\"{bot_name}: {random.choice(intent['responses'])}\")\n",
        "            # Stage 1: Customer's Name\n",
        "            f_name = input('\\tFirst Name: ')\n",
        "            l_name = input('\\tLast Name: ')\n",
        "\n",
        "            # Stage 2: Booking Dates\n",
        "            arr = input('\\tArrival day (DD/MM/YYYY): ')\n",
        "            dep = input('\\tDeparture day (DD/MM/YYYY): ')\n",
        "\n",
        "            # Stage 3: Room and service\n",
        "            room = input('\\tWhich type of room are you looking for?: ')\n",
        "            service = input('\\tWhich service do you prefer?: ')\n",
        "\n",
        "            # Stage 4: Confirmation and Final Rate\n",
        "            c1 = Customer((f_name, l_name), (arr, dep), room, service)\n",
        "            c1.ID()\n",
        "            all_bookings = all_bookings.append(c1.__dict__, ignore_index=True)\n",
        "            print(c1)\n",
        "        \n",
        "        elif tag == 'cancellation':\n",
        "            print(f\"{bot_name}: {random.choice(intent['responses'])}\")\n",
        "            ref_num = input('\\tReference number: ')\n",
        "            if ref_num in all_bookings['id'].values:\n",
        "              all_bookings = all_bookings.drop(all_bookings['id'][all_bookings['id'] == ref_num].index)\n",
        "              print('Your reservation has been canceled.')\n",
        "            else:\n",
        "              print('This reference number does not exist.')\n",
        "\n",
        "        elif tag == 'contacts':\n",
        "          contact_email = contact_dept(sentence, departments)\n",
        "          if contact_email != None:\n",
        "            print(f\"{bot_name}: {random.choice(intent['responses'])} {contact_email}\")\n",
        "          else: \n",
        "            print('Unfortunately this department does not exist.')\n",
        "        else:\n",
        "          print(f\"{bot_name}: {random.choice(intent['responses'])}\")\n",
        "  else:\n",
        "    print(f'{bot_name}: I do not understand...')"
      ],
      "execution_count": 17,
      "outputs": [
        {
          "output_type": "stream",
          "name": "stdout",
          "text": [
            "Let's chat: type 'quit' to exit\n",
            "You: location\n",
            "Bot : I do not understand...\n",
            "You: booking\n",
            "Bot : I do not understand...\n",
            "You: hi\n",
            "Bot : Hi there, how can I help?\n",
            "You: Can I have the contact of the marketing department?\n",
            "Bot : Sure. To contact with them, send an email to: marketing@hollywoodhotel.com\n",
            "You: I want to know the exact location\n",
            "Bot : You will find us at Vine St, Los Angeles, CA 99999\n",
            "You: I want to know the exact location\n",
            "Bot : You will find us at Vine St, Los Angeles, CA 99999\n",
            "You: Can I book a room?\n",
            "Bot : Lovely. Let's begin with the reservation\n",
            "\tFirst Name: RaghuRam\n",
            "\tLast Name: Raavi\n",
            "\tArrival day (DD/MM/YYYY): 31/12/2022\n",
            "\tDeparture day (DD/MM/YYYY): 05/01/2023\n",
            "\tWhich type of room are you looking for?: Normal\n",
            "\tWhich service do you prefer?: Normal\n",
            "\n",
            "        > Mr./Miss. Raavi, \n",
            "        >\n",
            "        > We are delighted to confirm your booking with us for the 2022-12-31 till the 2023-01-05. \n",
            "        > A Normal with Normal for the final rate of £99.0 per night. \n",
            "        > Total price: £495.0\n",
            "        > Your reference number is LDM3907. \n",
            "        > Keep this number in case you want to modify or cancel your booking in the future.\n",
            "        >\n",
            "        > Best,\n",
            "        > The Hollywood Hotel\n",
            "        \n"
          ]
        },
        {
          "output_type": "error",
          "ename": "KeyboardInterrupt",
          "evalue": "ignored",
          "traceback": [
            "\u001b[0;31m---------------------------------------------------------------------------\u001b[0m",
            "\u001b[0;31mKeyboardInterrupt\u001b[0m                         Traceback (most recent call last)",
            "\u001b[0;32m<ipython-input-17-08bce51db2e5>\u001b[0m in \u001b[0;36m<module>\u001b[0;34m\u001b[0m\n\u001b[1;32m      8\u001b[0m \u001b[0;34m\u001b[0m\u001b[0m\n\u001b[1;32m      9\u001b[0m \u001b[0;32mwhile\u001b[0m \u001b[0;32mTrue\u001b[0m\u001b[0;34m:\u001b[0m\u001b[0;34m\u001b[0m\u001b[0;34m\u001b[0m\u001b[0m\n\u001b[0;32m---> 10\u001b[0;31m   \u001b[0msentence\u001b[0m \u001b[0;34m=\u001b[0m \u001b[0minput\u001b[0m\u001b[0;34m(\u001b[0m\u001b[0;34m'You: '\u001b[0m\u001b[0;34m)\u001b[0m\u001b[0;34m\u001b[0m\u001b[0;34m\u001b[0m\u001b[0m\n\u001b[0m\u001b[1;32m     11\u001b[0m   \u001b[0;32mif\u001b[0m \u001b[0msentence\u001b[0m \u001b[0;34m==\u001b[0m \u001b[0;34m'quit'\u001b[0m\u001b[0;34m:\u001b[0m\u001b[0;34m\u001b[0m\u001b[0;34m\u001b[0m\u001b[0m\n\u001b[1;32m     12\u001b[0m     \u001b[0;32mbreak\u001b[0m\u001b[0;34m\u001b[0m\u001b[0;34m\u001b[0m\u001b[0m\n",
            "\u001b[0;32m/usr/local/lib/python3.8/dist-packages/ipykernel/kernelbase.py\u001b[0m in \u001b[0;36mraw_input\u001b[0;34m(self, prompt)\u001b[0m\n\u001b[1;32m    858\u001b[0m                 \u001b[0;34m\"raw_input was called, but this frontend does not support input requests.\"\u001b[0m\u001b[0;34m\u001b[0m\u001b[0;34m\u001b[0m\u001b[0m\n\u001b[1;32m    859\u001b[0m             )\n\u001b[0;32m--> 860\u001b[0;31m         return self._input_request(str(prompt),\n\u001b[0m\u001b[1;32m    861\u001b[0m             \u001b[0mself\u001b[0m\u001b[0;34m.\u001b[0m\u001b[0m_parent_ident\u001b[0m\u001b[0;34m,\u001b[0m\u001b[0;34m\u001b[0m\u001b[0;34m\u001b[0m\u001b[0m\n\u001b[1;32m    862\u001b[0m             \u001b[0mself\u001b[0m\u001b[0;34m.\u001b[0m\u001b[0m_parent_header\u001b[0m\u001b[0;34m,\u001b[0m\u001b[0;34m\u001b[0m\u001b[0;34m\u001b[0m\u001b[0m\n",
            "\u001b[0;32m/usr/local/lib/python3.8/dist-packages/ipykernel/kernelbase.py\u001b[0m in \u001b[0;36m_input_request\u001b[0;34m(self, prompt, ident, parent, password)\u001b[0m\n\u001b[1;32m    902\u001b[0m             \u001b[0;32mexcept\u001b[0m \u001b[0mKeyboardInterrupt\u001b[0m\u001b[0;34m:\u001b[0m\u001b[0;34m\u001b[0m\u001b[0;34m\u001b[0m\u001b[0m\n\u001b[1;32m    903\u001b[0m                 \u001b[0;31m# re-raise KeyboardInterrupt, to truncate traceback\u001b[0m\u001b[0;34m\u001b[0m\u001b[0;34m\u001b[0m\u001b[0;34m\u001b[0m\u001b[0m\n\u001b[0;32m--> 904\u001b[0;31m                 \u001b[0;32mraise\u001b[0m \u001b[0mKeyboardInterrupt\u001b[0m\u001b[0;34m(\u001b[0m\u001b[0;34m\"Interrupted by user\"\u001b[0m\u001b[0;34m)\u001b[0m \u001b[0;32mfrom\u001b[0m \u001b[0;32mNone\u001b[0m\u001b[0;34m\u001b[0m\u001b[0;34m\u001b[0m\u001b[0m\n\u001b[0m\u001b[1;32m    905\u001b[0m             \u001b[0;32mexcept\u001b[0m \u001b[0mException\u001b[0m \u001b[0;32mas\u001b[0m \u001b[0me\u001b[0m\u001b[0;34m:\u001b[0m\u001b[0;34m\u001b[0m\u001b[0;34m\u001b[0m\u001b[0m\n\u001b[1;32m    906\u001b[0m                 \u001b[0mself\u001b[0m\u001b[0;34m.\u001b[0m\u001b[0mlog\u001b[0m\u001b[0;34m.\u001b[0m\u001b[0mwarning\u001b[0m\u001b[0;34m(\u001b[0m\u001b[0;34m\"Invalid Message:\"\u001b[0m\u001b[0;34m,\u001b[0m \u001b[0mexc_info\u001b[0m\u001b[0;34m=\u001b[0m\u001b[0;32mTrue\u001b[0m\u001b[0;34m)\u001b[0m\u001b[0;34m\u001b[0m\u001b[0;34m\u001b[0m\u001b[0m\n",
            "\u001b[0;31mKeyboardInterrupt\u001b[0m: Interrupted by user"
          ]
        }
      ]
    },
    {
      "cell_type": "code",
      "source": [],
      "metadata": {
        "id": "9lakq2mI3PNo"
      },
      "execution_count": null,
      "outputs": []
    }
  ]
}