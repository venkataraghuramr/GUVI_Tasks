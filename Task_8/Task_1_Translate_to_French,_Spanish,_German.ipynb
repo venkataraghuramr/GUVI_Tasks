{
  "nbformat": 4,
  "nbformat_minor": 0,
  "metadata": {
    "colab": {
      "provenance": []
    },
    "kernelspec": {
      "name": "python3",
      "display_name": "Python 3"
    },
    "language_info": {
      "name": "python"
    }
  },
  "cells": [
    {
      "cell_type": "markdown",
      "source": [
        "# Importing Required Libraries|"
      ],
      "metadata": {
        "id": "aH_CyLEvIVEv"
      }
    },
    {
      "cell_type": "code",
      "execution_count": 3,
      "metadata": {
        "id": "A4aqziZlFPhY"
      },
      "outputs": [],
      "source": [
        "import pandas as pd\n",
        "import nltk\n",
        "from deep_translator import GoogleTranslator"
      ]
    },
    {
      "cell_type": "markdown",
      "source": [
        "# Loading Dataset"
      ],
      "metadata": {
        "id": "bClbfQcuIdaE"
      }
    },
    {
      "cell_type": "code",
      "source": [
        "df = pd.read_csv('English.csv')"
      ],
      "metadata": {
        "id": "Hu199RtHFmCm"
      },
      "execution_count": 4,
      "outputs": []
    },
    {
      "cell_type": "code",
      "source": [
        "df.head()"
      ],
      "metadata": {
        "colab": {
          "base_uri": "https://localhost:8080/",
          "height": 206
        },
        "id": "CNWoMlUyF7nH",
        "outputId": "41e46c8f-0c45-4af5-b8c8-f7275d7fa8ea"
      },
      "execution_count": 5,
      "outputs": [
        {
          "output_type": "execute_result",
          "data": {
            "text/plain": [
              "  English words/sentences\n",
              "0                     Hi.\n",
              "1                    Run!\n",
              "2                    Run!\n",
              "3                    Who?\n",
              "4                    Wow!"
            ],
            "text/html": [
              "\n",
              "  <div id=\"df-b484be9f-c6e7-485e-b77b-96048154dbd0\">\n",
              "    <div class=\"colab-df-container\">\n",
              "      <div>\n",
              "<style scoped>\n",
              "    .dataframe tbody tr th:only-of-type {\n",
              "        vertical-align: middle;\n",
              "    }\n",
              "\n",
              "    .dataframe tbody tr th {\n",
              "        vertical-align: top;\n",
              "    }\n",
              "\n",
              "    .dataframe thead th {\n",
              "        text-align: right;\n",
              "    }\n",
              "</style>\n",
              "<table border=\"1\" class=\"dataframe\">\n",
              "  <thead>\n",
              "    <tr style=\"text-align: right;\">\n",
              "      <th></th>\n",
              "      <th>English words/sentences</th>\n",
              "    </tr>\n",
              "  </thead>\n",
              "  <tbody>\n",
              "    <tr>\n",
              "      <th>0</th>\n",
              "      <td>Hi.</td>\n",
              "    </tr>\n",
              "    <tr>\n",
              "      <th>1</th>\n",
              "      <td>Run!</td>\n",
              "    </tr>\n",
              "    <tr>\n",
              "      <th>2</th>\n",
              "      <td>Run!</td>\n",
              "    </tr>\n",
              "    <tr>\n",
              "      <th>3</th>\n",
              "      <td>Who?</td>\n",
              "    </tr>\n",
              "    <tr>\n",
              "      <th>4</th>\n",
              "      <td>Wow!</td>\n",
              "    </tr>\n",
              "  </tbody>\n",
              "</table>\n",
              "</div>\n",
              "      <button class=\"colab-df-convert\" onclick=\"convertToInteractive('df-b484be9f-c6e7-485e-b77b-96048154dbd0')\"\n",
              "              title=\"Convert this dataframe to an interactive table.\"\n",
              "              style=\"display:none;\">\n",
              "        \n",
              "  <svg xmlns=\"http://www.w3.org/2000/svg\" height=\"24px\"viewBox=\"0 0 24 24\"\n",
              "       width=\"24px\">\n",
              "    <path d=\"M0 0h24v24H0V0z\" fill=\"none\"/>\n",
              "    <path d=\"M18.56 5.44l.94 2.06.94-2.06 2.06-.94-2.06-.94-.94-2.06-.94 2.06-2.06.94zm-11 1L8.5 8.5l.94-2.06 2.06-.94-2.06-.94L8.5 2.5l-.94 2.06-2.06.94zm10 10l.94 2.06.94-2.06 2.06-.94-2.06-.94-.94-2.06-.94 2.06-2.06.94z\"/><path d=\"M17.41 7.96l-1.37-1.37c-.4-.4-.92-.59-1.43-.59-.52 0-1.04.2-1.43.59L10.3 9.45l-7.72 7.72c-.78.78-.78 2.05 0 2.83L4 21.41c.39.39.9.59 1.41.59.51 0 1.02-.2 1.41-.59l7.78-7.78 2.81-2.81c.8-.78.8-2.07 0-2.86zM5.41 20L4 18.59l7.72-7.72 1.47 1.35L5.41 20z\"/>\n",
              "  </svg>\n",
              "      </button>\n",
              "      \n",
              "  <style>\n",
              "    .colab-df-container {\n",
              "      display:flex;\n",
              "      flex-wrap:wrap;\n",
              "      gap: 12px;\n",
              "    }\n",
              "\n",
              "    .colab-df-convert {\n",
              "      background-color: #E8F0FE;\n",
              "      border: none;\n",
              "      border-radius: 50%;\n",
              "      cursor: pointer;\n",
              "      display: none;\n",
              "      fill: #1967D2;\n",
              "      height: 32px;\n",
              "      padding: 0 0 0 0;\n",
              "      width: 32px;\n",
              "    }\n",
              "\n",
              "    .colab-df-convert:hover {\n",
              "      background-color: #E2EBFA;\n",
              "      box-shadow: 0px 1px 2px rgba(60, 64, 67, 0.3), 0px 1px 3px 1px rgba(60, 64, 67, 0.15);\n",
              "      fill: #174EA6;\n",
              "    }\n",
              "\n",
              "    [theme=dark] .colab-df-convert {\n",
              "      background-color: #3B4455;\n",
              "      fill: #D2E3FC;\n",
              "    }\n",
              "\n",
              "    [theme=dark] .colab-df-convert:hover {\n",
              "      background-color: #434B5C;\n",
              "      box-shadow: 0px 1px 3px 1px rgba(0, 0, 0, 0.15);\n",
              "      filter: drop-shadow(0px 1px 2px rgba(0, 0, 0, 0.3));\n",
              "      fill: #FFFFFF;\n",
              "    }\n",
              "  </style>\n",
              "\n",
              "      <script>\n",
              "        const buttonEl =\n",
              "          document.querySelector('#df-b484be9f-c6e7-485e-b77b-96048154dbd0 button.colab-df-convert');\n",
              "        buttonEl.style.display =\n",
              "          google.colab.kernel.accessAllowed ? 'block' : 'none';\n",
              "\n",
              "        async function convertToInteractive(key) {\n",
              "          const element = document.querySelector('#df-b484be9f-c6e7-485e-b77b-96048154dbd0');\n",
              "          const dataTable =\n",
              "            await google.colab.kernel.invokeFunction('convertToInteractive',\n",
              "                                                     [key], {});\n",
              "          if (!dataTable) return;\n",
              "\n",
              "          const docLinkHtml = 'Like what you see? Visit the ' +\n",
              "            '<a target=\"_blank\" href=https://colab.research.google.com/notebooks/data_table.ipynb>data table notebook</a>'\n",
              "            + ' to learn more about interactive tables.';\n",
              "          element.innerHTML = '';\n",
              "          dataTable['output_type'] = 'display_data';\n",
              "          await google.colab.output.renderOutput(dataTable, element);\n",
              "          const docLink = document.createElement('div');\n",
              "          docLink.innerHTML = docLinkHtml;\n",
              "          element.appendChild(docLink);\n",
              "        }\n",
              "      </script>\n",
              "    </div>\n",
              "  </div>\n",
              "  "
            ]
          },
          "metadata": {},
          "execution_count": 5
        }
      ]
    },
    {
      "cell_type": "code",
      "source": [
        "df1 = pd.DataFrame(df[\"English words/sentences\"].unique()).rename(columns = {0:'English Words'})\n",
        "print(df1)"
      ],
      "metadata": {
        "colab": {
          "base_uri": "https://localhost:8080/"
        },
        "id": "kmsP2e8UGBu9",
        "outputId": "e9b49b82-10e4-415a-df6f-443581680da9"
      },
      "execution_count": 6,
      "outputs": [
        {
          "output_type": "stream",
          "name": "stdout",
          "text": [
            "                             English Words\n",
            "0                                      Hi.\n",
            "1                                     Run!\n",
            "2                                     Who?\n",
            "3                                     Wow!\n",
            "4                                    Fire!\n",
            "...                                    ...\n",
            "83212  All you have to do is study harder.\n",
            "83213  All your problems have been solved.\n",
            "83214  Almost everyone believed the rumor.\n",
            "83215  Although I was sick, I did my best.\n",
            "83216                    America is a coun\n",
            "\n",
            "[83217 rows x 1 columns]\n"
          ]
        }
      ]
    },
    {
      "cell_type": "code",
      "source": [
        "df1[\"English Words\"] = df1[\"English Words\"].str.replace(\"[^a-zA-Z0-9]\", \" \") \n",
        "df1[\"English Words\"]"
      ],
      "metadata": {
        "colab": {
          "base_uri": "https://localhost:8080/"
        },
        "id": "EbVE4I5eGQHI",
        "outputId": "9ee5f769-8106-41f6-944f-491a4e680faa"
      },
      "execution_count": 7,
      "outputs": [
        {
          "output_type": "stream",
          "name": "stderr",
          "text": [
            "<ipython-input-7-491f8da4334a>:1: FutureWarning: The default value of regex will change from True to False in a future version.\n",
            "  df1[\"English Words\"] = df1[\"English Words\"].str.replace(\"[^a-zA-Z0-9]\", \" \")\n"
          ]
        },
        {
          "output_type": "execute_result",
          "data": {
            "text/plain": [
              "0                                        Hi \n",
              "1                                       Run \n",
              "2                                       Who \n",
              "3                                       Wow \n",
              "4                                      Fire \n",
              "                        ...                 \n",
              "83212    All you have to do is study harder \n",
              "83213    All your problems have been solved \n",
              "83214    Almost everyone believed the rumor \n",
              "83215    Although I was sick  I did my best \n",
              "83216                      America is a coun\n",
              "Name: English Words, Length: 83217, dtype: object"
            ]
          },
          "metadata": {},
          "execution_count": 7
        }
      ]
    },
    {
      "cell_type": "code",
      "source": [
        "df1[\"English Words\"].head(50)"
      ],
      "metadata": {
        "colab": {
          "base_uri": "https://localhost:8080/"
        },
        "id": "wvKUG70cGYJ4",
        "outputId": "1e6c49cd-30d6-4810-9c0d-3335752b6ef8"
      },
      "execution_count": 8,
      "outputs": [
        {
          "output_type": "execute_result",
          "data": {
            "text/plain": [
              "0          Hi \n",
              "1         Run \n",
              "2         Who \n",
              "3         Wow \n",
              "4        Fire \n",
              "5        Help \n",
              "6        Jump \n",
              "7        Stop \n",
              "8        Wait \n",
              "9       Go on \n",
              "10      Hello \n",
              "11      I see \n",
              "12      I try \n",
              "13      I won \n",
              "14      I won \n",
              "15      Oh no \n",
              "16     Attack \n",
              "17     Cheers \n",
              "18     Get up \n",
              "19     Go now \n",
              "20     Got it \n",
              "21     Got it \n",
              "22     Hop in \n",
              "23     Hug me \n",
              "24     I fell \n",
              "25     I know \n",
              "26     I left \n",
              "27     I lied \n",
              "28     I lost \n",
              "29     I paid \n",
              "30     I m 19 \n",
              "31     I m OK \n",
              "32     Listen \n",
              "33     No way \n",
              "34     Really \n",
              "35     Thanks \n",
              "36     We try \n",
              "37     We won \n",
              "38    Ask Tom \n",
              "39    Awesome \n",
              "40    Be calm \n",
              "41    Be cool \n",
              "42    Be fair \n",
              "43    Be kind \n",
              "44    Be nice \n",
              "45    Beat it \n",
              "46    Call me \n",
              "47    Call us \n",
              "48    Come in \n",
              "49    Come on \n",
              "Name: English Words, dtype: object"
            ]
          },
          "metadata": {},
          "execution_count": 8
        }
      ]
    },
    {
      "cell_type": "markdown",
      "source": [
        "## Translate from English to French"
      ],
      "metadata": {
        "id": "VSVuxq60IksS"
      }
    },
    {
      "cell_type": "code",
      "source": [
        "def Translate(rev):\n",
        "    translation_tokenized = GoogleTranslator(source='english', target='fr').translate(rev)\n",
        "    return translation_tokenized"
      ],
      "metadata": {
        "id": "mgAH1Y8eGk47"
      },
      "execution_count": 9,
      "outputs": []
    },
    {
      "cell_type": "code",
      "source": [
        "French_Words = [Translate(r) for r in df1[\"English Words\"].head(50)]\n",
        "French_Words"
      ],
      "metadata": {
        "colab": {
          "base_uri": "https://localhost:8080/"
        },
        "id": "7pi7xzxwGnQK",
        "outputId": "25e7863c-a3c3-436d-ac20-3ffb0fbc0a8d"
      },
      "execution_count": 10,
      "outputs": [
        {
          "output_type": "execute_result",
          "data": {
            "text/plain": [
              "['Salut',\n",
              " 'Courir',\n",
              " 'Qui',\n",
              " 'Ouah',\n",
              " 'Feu',\n",
              " 'Aider',\n",
              " 'Sauter',\n",
              " 'Arrêt',\n",
              " 'Attendez',\n",
              " 'Continue',\n",
              " 'Bonjour',\n",
              " 'je vois',\n",
              " \"J'essaye\",\n",
              " \"J'ai gagné\",\n",
              " \"J'ai gagné\",\n",
              " 'Oh non',\n",
              " 'Attaque',\n",
              " 'Acclamations',\n",
              " 'Se lever',\n",
              " 'Allez maintenant',\n",
              " \"J'ai compris\",\n",
              " \"J'ai compris\",\n",
              " 'Monter dedans',\n",
              " 'Donne moi un câlin',\n",
              " 'je suis tombé',\n",
              " 'je sais',\n",
              " 'Je suis parti',\n",
              " \"j'ai menti\",\n",
              " \"J'ai perdu\",\n",
              " \"j'ai payé\",\n",
              " \"J'ai 19 ans\",\n",
              " 'Je vais bien',\n",
              " 'Ecoutez',\n",
              " 'Certainement pas',\n",
              " 'Vraiment',\n",
              " 'Merci',\n",
              " 'Nous essayons',\n",
              " 'Nous avons gagné',\n",
              " 'Demander à Tom',\n",
              " 'Impressionnant',\n",
              " 'Sois calme',\n",
              " 'Soit cool',\n",
              " 'Être juste',\n",
              " 'Etre gentil',\n",
              " 'Sois gentil',\n",
              " 'Batte-le',\n",
              " 'Appelle-moi',\n",
              " 'Appelez-nous',\n",
              " 'Entrez',\n",
              " 'Allez']"
            ]
          },
          "metadata": {},
          "execution_count": 10
        }
      ]
    },
    {
      "cell_type": "code",
      "source": [
        "French_Sentences = [Translate(r) for r in df1[\"English Words\"].tail(50)]\n",
        "French_Sentences"
      ],
      "metadata": {
        "colab": {
          "base_uri": "https://localhost:8080/"
        },
        "id": "mlkGwTgKGz3R",
        "outputId": "1d72034e-2914-4ae1-8d9a-dc8736c55605"
      },
      "execution_count": 12,
      "outputs": [
        {
          "output_type": "execute_result",
          "data": {
            "text/plain": [
              "['Un chat est apparu sous le bureau',\n",
              " 'Un chat est sorti de sous le bureau',\n",
              " 'Un chat voit beaucoup mieux la nuit',\n",
              " \"Une maladie infantile l'a rendue aveugle\",\n",
              " 'Un rideau de brume bloquait notre vue',\n",
              " 'Un équilibre délicat doit être atteint',\n",
              " \"Un incendie s'est déclaré cette nuit-là\",\n",
              " 'Un grand avenir lui est réservé',\n",
              " 'Un groupe de jeunes hommes se battait',\n",
              " 'Un enfant qui grandit a besoin de plus de nourriture',\n",
              " 'Une lourde taxe a été imposée sur le whisky',\n",
              " 'Un câlin de toi me rendrait heureux',\n",
              " 'Beaucoup de mecs ici te détestent',\n",
              " 'Beaucoup de soldats ont été tués ici',\n",
              " 'Un homme est venu vous rendre visite hier soir',\n",
              " 'Un homme est responsable de ses actes',\n",
              " \"La vie d'un homme a ses hauts et ses bas\",\n",
              " 'Une souris court dans la pièce',\n",
              " \"Une voiture qui passait nous a aspergé d'eau\",\n",
              " 'Il lui est arrivé une très mauvaise chose',\n",
              " 'Un paravent divisait la pièce en deux',\n",
              " 'Une tempête les a confinés à la maison',\n",
              " 'Une nuée de moustiques le suivait',\n",
              " 'Un vrai ami ne te trahirait pas',\n",
              " \"Un jeune homme fait irruption à l'improviste\",\n",
              " 'Achille était un ancien héros grec',\n",
              " \"L'Afrique exporte de la viande bovine vers l'Europe\",\n",
              " \"Après je ne l'ai plus revu\",\n",
              " 'Dirigez la caméra vidéo vers ce groupe',\n",
              " \"L'air est à nous ce que l'eau est au poisson\",\n",
              " \"L'algèbre est une branche des mathématiques\",\n",
              " \"Tout ce que je veux maintenant, c'est un verre d'eau\",\n",
              " \"Tout ce que je veux que tu fasses, c'est nous parler\",\n",
              " 'Tout à coup, il y a eu une explosion',\n",
              " 'Tous mes amis et ma famille sont morts',\n",
              " 'Tous mes amis se marient',\n",
              " 'Toutes les prédictions de Tom se sont réalisées',\n",
              " \"Tout d'un coup il m'a proposé\",\n",
              " 'Tous mes frères sont morts à la guerre',\n",
              " 'Tous ont accepté la proposition',\n",
              " 'Nous avons tous été choqués par la nouvelle',\n",
              " 'Nous mourrons tous tôt ou tard',\n",
              " 'Tous les moyens possibles ont été essayés',\n",
              " \"Tout l'argent a été dépensé en vêtements\",\n",
              " 'Tous les anciens magazines sont épuisés',\n",
              " \"Tout ce que vous avez à faire est d'étudier plus dur\",\n",
              " 'Tous vos problèmes ont été résolus',\n",
              " 'Presque tout le monde a cru la rumeur',\n",
              " \"Même si j'étais malade, j'ai fait de mon mieux\",\n",
              " \"L'Amérique est un pays\"]"
            ]
          },
          "metadata": {},
          "execution_count": 12
        }
      ]
    },
    {
      "cell_type": "markdown",
      "source": [
        "## Translate from English to German"
      ],
      "metadata": {
        "id": "QCteb0D8IoDH"
      }
    },
    {
      "cell_type": "code",
      "source": [
        "def Translate_German(rev):\n",
        "    translation_tokenized = GoogleTranslator(source='english', target='de').translate(rev)\n",
        "    return translation_tokenized"
      ],
      "metadata": {
        "id": "ytL_-MoyHHoT"
      },
      "execution_count": 14,
      "outputs": []
    },
    {
      "cell_type": "code",
      "source": [
        "German_Words = [Translate_German(r) for r in df1[\"English Words\"].head(50)]\n",
        "German_Words"
      ],
      "metadata": {
        "colab": {
          "base_uri": "https://localhost:8080/"
        },
        "id": "TkeZDqTLHOhb",
        "outputId": "8a58082a-245d-4b6c-8c73-c4b3ac4b3703"
      },
      "execution_count": 17,
      "outputs": [
        {
          "output_type": "execute_result",
          "data": {
            "text/plain": [
              "['Hi',\n",
              " 'Laufen',\n",
              " 'Wer',\n",
              " 'Wow',\n",
              " 'Feuer',\n",
              " 'Hilfe',\n",
              " 'Springen',\n",
              " 'Halt',\n",
              " 'Warte ab',\n",
              " 'Mach weiter',\n",
              " 'Hallo',\n",
              " 'Aha',\n",
              " 'ich versuche',\n",
              " 'ich habe gewonnen',\n",
              " 'ich habe gewonnen',\n",
              " 'Ach nein',\n",
              " 'Attacke',\n",
              " 'Prost',\n",
              " 'Aufstehen',\n",
              " 'Geh jetzt',\n",
              " 'Ich habs',\n",
              " 'Ich habs',\n",
              " 'Steigen Sie ein',\n",
              " 'Umarme mich',\n",
              " 'Ich fiel',\n",
              " 'Ich weiss',\n",
              " 'Ich ging weg',\n",
              " 'ich habe gelogen',\n",
              " 'Ich habe verloren',\n",
              " 'ich habe bezahlt',\n",
              " 'Ich bin 19',\n",
              " 'Ich bin OK',\n",
              " 'Hören',\n",
              " 'Auf keinen Fall',\n",
              " 'Wirklich',\n",
              " 'Vielen Dank',\n",
              " 'Wir versuchen',\n",
              " 'Wir haben gewonnen',\n",
              " 'Frag Tom',\n",
              " 'Genial',\n",
              " 'Ruhig sein',\n",
              " 'Sei cool',\n",
              " 'Sei fair',\n",
              " 'Sei freundlich',\n",
              " 'Sei nett',\n",
              " 'Mach dich vom Acker',\n",
              " 'Rufen Sie mich an',\n",
              " 'Rufen Sie uns an',\n",
              " 'Komm herein',\n",
              " 'Komm schon']"
            ]
          },
          "metadata": {},
          "execution_count": 17
        }
      ]
    },
    {
      "cell_type": "code",
      "source": [
        "German_Sentence = [Translate_German(r) for r in df1[\"English Words\"].tail(50)]\n",
        "German_Sentence"
      ],
      "metadata": {
        "colab": {
          "base_uri": "https://localhost:8080/"
        },
        "id": "BZxUb4HfHdwm",
        "outputId": "952006e1-1c1c-4a64-f1bf-42dba011f994"
      },
      "execution_count": 18,
      "outputs": [
        {
          "output_type": "execute_result",
          "data": {
            "text/plain": [
              "['Eine Katze tauchte unter dem Schreibtisch auf',\n",
              " 'Eine Katze kam unter dem Schreibtisch hervor',\n",
              " 'Eine Katze kann nachts viel besser sehen',\n",
              " 'Eine Kinderkrankheit machte sie blind',\n",
              " 'Ein Nebelvorhang versperrte uns die Sicht',\n",
              " 'Es muss ein empfindliches Gleichgewicht erreicht werden',\n",
              " 'In dieser Nacht brach ein Feuer aus',\n",
              " 'Eine große Zukunft ist ihm vorbehalten',\n",
              " 'Eine Gruppe junger Männer kämpfte',\n",
              " 'Ein wachsendes Kind benötigt mehr Nahrung',\n",
              " 'Auf Whisky wurde eine hohe Steuer erhoben',\n",
              " 'Eine Umarmung von dir würde mich glücklich machen',\n",
              " 'Viele Typen hier hassen dich',\n",
              " 'Hier wurden viele Soldaten getötet',\n",
              " 'Gestern Abend hat dich ein Mann besucht',\n",
              " 'Ein Mann ist für seine Taten verantwortlich',\n",
              " 'Das Leben eines Mannes hat Höhen und Tiefen',\n",
              " 'Eine Maus läuft durch den Raum',\n",
              " 'Ein vorbeifahrendes Auto hat uns mit Wasser bespritzt',\n",
              " 'Ihm ist etwas ganz Schlimmes passiert',\n",
              " 'Ein Paravent teilte den Raum in zwei',\n",
              " 'Ein Sturm fesselte sie an das Haus',\n",
              " 'Ein Schwarm Moskitos folgte ihm',\n",
              " 'Ein wahrer Freund würde dich nicht verraten',\n",
              " 'Ein junger Mann platzte unerwartet herein',\n",
              " 'Achilles war ein altgriechischer Held',\n",
              " 'Afrika exportiert Rindfleisch nach Europa',\n",
              " 'Danach habe ich ihn nicht mehr gesehen',\n",
              " 'Richten Sie die Videokamera auf diese Gruppe',\n",
              " 'Luft ist für uns, was Wasser für Fische ist',\n",
              " 'Algebra ist ein Teilgebiet der Mathematik',\n",
              " 'Jetzt will ich nur noch ein Glas Wasser',\n",
              " 'Ich möchte nur, dass Sie mit uns reden',\n",
              " 'Auf einmal gab es eine Explosion',\n",
              " 'Alle meine Freunde und Familie sind tot',\n",
              " 'Alle meine Freunde heiraten',\n",
              " 'Alle Vorhersagen von Tom haben sich bewahrheitet',\n",
              " 'Plötzlich hat er mir einen Antrag gemacht',\n",
              " 'Alle meine Brüder sind im Krieg gefallen',\n",
              " 'Alle stimmten dem Vorschlag zu',\n",
              " 'Wir alle waren von der Nachricht schockiert',\n",
              " 'Wir alle werden früher oder später sterben',\n",
              " 'Alle möglichen Mittel wurden ausprobiert',\n",
              " 'Das ganze Geld wurde für Kleidung ausgegeben',\n",
              " 'Alle alten Zeitschriften sind ausverkauft',\n",
              " 'Alles, was Sie tun müssen, ist härter zu lernen',\n",
              " 'Alle Ihre Probleme wurden gelöst',\n",
              " 'Fast alle glaubten dem Gerücht',\n",
              " 'Obwohl ich krank war, habe ich mein Bestes gegeben',\n",
              " 'Amerika ist ein Staat']"
            ]
          },
          "metadata": {},
          "execution_count": 18
        }
      ]
    },
    {
      "cell_type": "markdown",
      "source": [
        "## Translate from English to Spanish"
      ],
      "metadata": {
        "id": "6xHqx6_rIrL8"
      }
    },
    {
      "cell_type": "code",
      "source": [
        "def Translate_Spanish(rev):\n",
        "    translation_tokenized = GoogleTranslator(source='english', target='es').translate(rev)\n",
        "    return translation_tokenized"
      ],
      "metadata": {
        "id": "8X0OSmPHHtNi"
      },
      "execution_count": 19,
      "outputs": []
    },
    {
      "cell_type": "code",
      "source": [
        "Spanish_Words = [Translate_Spanish(r) for r in df1[\"English Words\"].head(50)]\n",
        "Spanish_Words"
      ],
      "metadata": {
        "colab": {
          "base_uri": "https://localhost:8080/"
        },
        "id": "T5BsKLg_H9Ye",
        "outputId": "82f9298d-c324-4a73-ec7c-805c04fd4521"
      },
      "execution_count": 20,
      "outputs": [
        {
          "output_type": "execute_result",
          "data": {
            "text/plain": [
              "['Hola',\n",
              " 'Correr',\n",
              " 'Quién',\n",
              " 'Guau',\n",
              " 'Fuego',\n",
              " 'Ayuda',\n",
              " 'Salto',\n",
              " 'Deténgase',\n",
              " 'Esperar',\n",
              " 'Continuar',\n",
              " 'Hola',\n",
              " 'ya veo',\n",
              " 'lo intento',\n",
              " 'gané',\n",
              " 'gané',\n",
              " 'Oh, no',\n",
              " 'Ataque',\n",
              " 'Salud',\n",
              " 'Levantarse',\n",
              " 'Ve ahora',\n",
              " 'Entendido',\n",
              " 'Entiendo',\n",
              " 'súbete',\n",
              " 'Abrázame',\n",
              " 'Me caí',\n",
              " 'lo sé',\n",
              " 'me fui',\n",
              " 'mentí',\n",
              " 'perdí',\n",
              " 'yo pagué',\n",
              " 'Tengo 19',\n",
              " 'Estoy bien',\n",
              " 'Escuchar',\n",
              " 'De ninguna manera',\n",
              " 'En realidad',\n",
              " 'Gracias',\n",
              " 'Intentamos',\n",
              " 'Ganamos',\n",
              " 'preguntale a tom',\n",
              " 'Impresionante',\n",
              " 'Estate calmado',\n",
              " 'Relájate',\n",
              " 'Sé justo',\n",
              " 'Se amable',\n",
              " 'Se bueno',\n",
              " 'Batirlo',\n",
              " 'Llámame',\n",
              " 'Llámanos',\n",
              " 'Adelante',\n",
              " 'Vamos']"
            ]
          },
          "metadata": {},
          "execution_count": 20
        }
      ]
    },
    {
      "cell_type": "code",
      "source": [
        "Spanish_Sentence = [Translate_Spanish(r) for r in df1[\"English Words\"].tail(50)]\n",
        "Spanish_Sentence"
      ],
      "metadata": {
        "colab": {
          "base_uri": "https://localhost:8080/"
        },
        "id": "KrgBtZQdIFrH",
        "outputId": "e5aab5bf-aeee-4e2b-c41a-7c1c9be69dfd"
      },
      "execution_count": 21,
      "outputs": [
        {
          "output_type": "execute_result",
          "data": {
            "text/plain": [
              "['Un gato apareció debajo del escritorio.',\n",
              " 'Un gato salió de debajo del escritorio.',\n",
              " 'Un gato puede ver mucho mejor de noche.',\n",
              " 'Una enfermedad infantil la dejó ciega',\n",
              " 'Una cortina de niebla bloqueó nuestra vista.',\n",
              " 'Se debe alcanzar un delicado equilibrio',\n",
              " 'Un incendio estalló durante esa noche.',\n",
              " 'Un gran futuro está reservado para él.',\n",
              " 'Un grupo de jóvenes peleaban',\n",
              " 'Un niño en crecimiento requiere más comida.',\n",
              " 'Se impuso un fuerte impuesto al whisky.',\n",
              " 'Un abrazo tuyo me haría feliz',\n",
              " 'Muchos chicos por aquí te odian',\n",
              " 'Muchos soldados fueron asesinados aquí.',\n",
              " 'Un hombre vino a visitarte anoche',\n",
              " 'Un hombre es responsable de sus actos.',\n",
              " 'La vida de un hombre tiene sus altibajos',\n",
              " 'Un ratón está corriendo por la habitación.',\n",
              " 'Un auto que pasaba nos salpicó agua',\n",
              " 'Le pasó algo muy malo',\n",
              " 'Una pantalla dividió la habitación en dos.',\n",
              " 'Una tormenta los confinó a la casa.',\n",
              " 'Un enjambre de mosquitos lo siguió.',\n",
              " 'Un verdadero amigo no te traicionaría',\n",
              " 'Un joven irrumpió inesperadamente',\n",
              " 'Aquiles fue un héroe de la antigua Grecia',\n",
              " 'África exporta carne de vacuno a Europa',\n",
              " 'Después de eso no lo volví a ver',\n",
              " 'Apunta la cámara de video a ese grupo',\n",
              " 'El aire es para nosotros lo que el agua es para los peces',\n",
              " 'El álgebra es una rama de las matemáticas.',\n",
              " 'Todo lo que quiero ahora es un vaso de agua',\n",
              " 'Todo lo que quiero que hagas es hablar con nosotros',\n",
              " 'De repente hubo una explosión.',\n",
              " 'Todos mis amigos y familiares están muertos.',\n",
              " 'todos mis amigos se van a casar',\n",
              " 'Todas las predicciones de Tom se hicieron realidad.',\n",
              " 'De repente me propuso',\n",
              " 'Todos mis hermanos murieron en la guerra.',\n",
              " 'Todos estuvieron de acuerdo con la propuesta.',\n",
              " 'Todos quedamos impactados por la noticia.',\n",
              " 'Todos moriremos tarde o temprano',\n",
              " 'Se han intentado todos los medios posibles',\n",
              " 'Todo el dinero se gastó en ropa.',\n",
              " 'Todas las revistas antiguas están agotadas.',\n",
              " 'Todo lo que tienes que hacer es estudiar más duro',\n",
              " 'Todos tus problemas han sido resueltos.',\n",
              " 'Casi todos creyeron el rumor.',\n",
              " 'Aunque estaba enfermo hice lo mejor que pude',\n",
              " 'América es un país']"
            ]
          },
          "metadata": {},
          "execution_count": 21
        }
      ]
    },
    {
      "cell_type": "code",
      "source": [],
      "metadata": {
        "id": "0nJb6L3LIM2f"
      },
      "execution_count": null,
      "outputs": []
    }
  ]
}